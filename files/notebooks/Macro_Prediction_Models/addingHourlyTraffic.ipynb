{
  "nbformat": 4,
  "nbformat_minor": 0,
  "metadata": {
    "colab": {
      "name": "addingHourlyTraffic.ipynb",
      "provenance": [],
      "authorship_tag": "ABX9TyP1lhK6ufCQezHwzTekni/t",
      "include_colab_link": true
    },
    "kernelspec": {
      "name": "python3",
      "display_name": "Python 3"
    }
  },
  "cells": [
    {
      "cell_type": "markdown",
      "metadata": {
        "id": "view-in-github",
        "colab_type": "text"
      },
      "source": [
        "<a href=\"https://colab.research.google.com/github/hdemma/hdemma.github.io/blob/master/Macro_Prediction_Models/addingHourlyTraffic.ipynb\" target=\"_parent\"><img src=\"https://colab.research.google.com/assets/colab-badge.svg\" alt=\"Open In Colab\"/></a>"
      ]
    },
    {
      "cell_type": "code",
      "metadata": {
        "id": "_ZU2OE3ZaHe_",
        "colab_type": "code",
        "colab": {}
      },
      "source": [
        "import pandas as pd\n",
        "import tqdm\n",
        "import datetime\n",
        "import pickle\n",
        "from ast import literal_eval\n",
        "import numpy as np\n",
        "import calendar\n",
        "import os"
      ],
      "execution_count": null,
      "outputs": []
    },
    {
      "cell_type": "code",
      "metadata": {
        "id": "_pX9IQHFaZeZ",
        "colab_type": "code",
        "colab": {}
      },
      "source": [
        "#initialization\n",
        "Vehicle_Type = 'Electric_Vehicles'\n",
        "Vehicle_ID = [751]\n",
        "\n",
        "dateFormat = '%Y-%m-%d'\n",
        "datetimeFormat = '%Y-%m-%d %H:%M:%S:%f'"
      ],
      "execution_count": null,
      "outputs": []
    },
    {
      "cell_type": "markdown",
      "metadata": {
        "id": "Asar-s1hapGK",
        "colab_type": "text"
      },
      "source": [
        "Loading data for mapping OSM segments to TMC IDs"
      ]
    },
    {
      "cell_type": "code",
      "metadata": {
        "id": "SCpt7YhQacQe",
        "colab_type": "code",
        "colab": {}
      },
      "source": [
        "# load the OSM_TMC_MAP\n",
        "OSM_TMC_MAP_PATH = os.path.join(os.getcwd(), \"data\", \"osm_tmc_matching_ids.pickle\")\n",
        "with open(OSM_TMC_MAP_PATH, 'rb') as handle:\n",
        "    OSM_TMC_MAP = pickle.load(handle)\n",
        "\n"
      ],
      "execution_count": null,
      "outputs": []
    },
    {
      "cell_type": "markdown",
      "metadata": {
        "id": "xGphycVCav4z",
        "colab_type": "text"
      },
      "source": [
        "Loading Hourly Traffic Data for Chattanooga"
      ]
    },
    {
      "cell_type": "code",
      "metadata": {
        "id": "qJjAvo-Hahq9",
        "colab_type": "code",
        "colab": {}
      },
      "source": [
        "df_TMC = pd.read_csv(f'Chattanooga_TrafficData_August19_July20.csv')\n",
        "print(df_TMC.columns)\n",
        "\n",
        "df_TMC=df_TMC.dropna()\n",
        "\n",
        "Columns = ['Speed_Real','Speed_FreeFlow','Speed_JF','Hour']\n",
        "\n",
        "for col in df_TMC.columns:\n",
        "    if col in Columns:\n",
        "        df_TMC[col] = df_TMC[col].apply(literal_eval)\n",
        "\n",
        "\n",
        "TMC_Id_for_Matching = list(df_TMC.TMC)\n",
        "Day = list(df_TMC.Day)\n",
        "Hour = list(df_TMC.Hour)\n",
        "Date = list(df_TMC.Date)\n",
        "\n",
        "Hourly_Speed_Real = list(df_TMC.Speed_Real)\n",
        "Hourly_Speed_Freeflow = list(df_TMC.Speed_FreeFlow)\n",
        "Hourly_Jam_Factor = list(df_TMC.Speed_JF)"
      ],
      "execution_count": null,
      "outputs": []
    },
    {
      "cell_type": "code",
      "metadata": {
        "id": "zZLsdodkbR8n",
        "colab_type": "code",
        "colab": {}
      },
      "source": [
        "def findDay(year, month, day):\n",
        "        dayNumber = calendar.weekday(year, month, day)\n",
        "        days = [\"Monday\", \"Tuesday\", \"Wednesday\", \"Thursday\",\n",
        "                \"Friday\", \"Saturday\", \"Sunday\"]\n",
        "        return (dayNumber)"
      ],
      "execution_count": null,
      "outputs": []
    },
    {
      "cell_type": "markdown",
      "metadata": {
        "id": "W0hOXfFPcBKw",
        "colab_type": "text"
      },
      "source": [
        "Mapping OSM to TMC ID"
      ]
    },
    {
      "cell_type": "code",
      "metadata": {
        "id": "AaV38LWDa5dV",
        "colab_type": "code",
        "colab": {}
      },
      "source": [
        "Vehicle_Name = f'BYD_751'\n",
        "print(f'Processing {Vehicle_Name}')\n",
        "\n",
        "df = pd.read_csv(f'{Vehicle_Name}_with_Elevation_Weather.csv', low_memory=False)\n",
        "print(len(df))\n",
        "\n",
        "OSM_Feature = list(df.OSM_Feature)\n",
        "\n",
        "TMC_Id = []\n",
        "OSM = []\n",
        "Found_OSM = []\n",
        "Not_Found = 0\n",
        "for i in OSM_Feature:\n",
        "    i = str(i)\n",
        "    temp = []\n",
        "    for key, value in OSM_TMC_MAP.items():\n",
        "        if i == key:\n",
        "            temp.append(value)\n",
        "    if len(temp) != 0:\n",
        "        for j in temp:\n",
        "            Found_OSM.append(i)\n",
        "            TMC_Id.append(j)\n",
        "    else:\n",
        "        Not_Found += 1\n",
        "        OSM.append(i)\n",
        "        TMC_Id.append(0)\n",
        "\n",
        "\n",
        "print(f'Total Segments = {len(TMC_Id)}\\n TMC-ID not found = {Not_Found}')\n",
        "print(f'Total Unique OSM =  {len(set(OSM_Feature))}\\n Mapped to TMC = {len(set(Found_OSM))} \\n')\n",
        "\n",
        "TMC_Id = np.array(TMC_Id)\n",
        "df['TMC_Id'] = TMC_Id\n"
      ],
      "execution_count": null,
      "outputs": []
    },
    {
      "cell_type": "markdown",
      "metadata": {
        "id": "IL2q_s03cNK5",
        "colab_type": "text"
      },
      "source": [
        "Breaking up TimeStamps into Time of Day and Day of Week"
      ]
    },
    {
      "cell_type": "code",
      "metadata": {
        "id": "kC7gqt-ycU6n",
        "colab_type": "code",
        "colab": {}
      },
      "source": [
        "Time = df.TimeStart\n",
        "Lat_ViriCity = df.Initial_recorded_Latitude\n",
        "Long_ViriCity = df.Initial_recorded_Longitude\n",
        "Date_from_ViriCity = []\n",
        "Hour_from_ViriCity = []\n",
        "\n",
        "Day_of_Week = []\n",
        "Time_of_Day = []\n",
        "for i in Time:\n",
        "    timestamp = i\n",
        "    TD = datetime.datetime.strptime(timestamp, datetimeFormat)\n",
        "    Date_from_ViriCity.append(TD.date())\n",
        "\n",
        "    year = TD.year\n",
        "    month = TD.month\n",
        "    day = TD.day\n",
        "\n",
        "    Day_of_Week.append(findDay(year, month, day))\n",
        "\n",
        "    Time_of_Day.append(TD.hour)\n",
        "\n",
        "\n",
        "df['Day_of_Week'] = Day_of_Week\n",
        "df['Time_of_Day'] = Time_of_Day"
      ],
      "execution_count": null,
      "outputs": []
    },
    {
      "cell_type": "markdown",
      "metadata": {
        "id": "7vE0iA-ZcZU1",
        "colab_type": "text"
      },
      "source": [
        "Matching with TMC and adding Hourly Traffic Data"
      ]
    },
    {
      "cell_type": "code",
      "metadata": {
        "id": "E697KDzJcZv_",
        "colab_type": "code",
        "colab": {}
      },
      "source": [
        "TMC_Id = list(df.TMC_Id)\n",
        "Day_of_Week = list(df.Day_of_Week)\n",
        "Time_of_Day = list(df.Time_of_Day)\n",
        "TimeStart = list(df.TimeStart)\n",
        "\n",
        "\n",
        "Speed_Ratio = []\n",
        "Jam_Factor = []\n",
        "\n",
        "for count in tqdm.tqdm(range(len(TMC_Id))):\n",
        "    tmc = TMC_Id[count]\n",
        "    indi_tmc = []\n",
        "    timestamp = TimeStart[count]\n",
        "\n",
        "    TD = datetime.datetime.strptime(timestamp, datetimeFormat)\n",
        "    date_viricity = TD.date()\n",
        "    hour_viricity = TD.hour\n",
        "\n",
        "    if len(tmc) > 2:\n",
        "        tmc = tmc.replace(\"', '\", \",\")\n",
        "        tmc = tmc.replace(\"'\", \"\")\n",
        "        tmc = tmc.replace(\"[\", \"\")\n",
        "        tmc = tmc.replace(\"]\", \"\")\n",
        "        tmc = tmc.split(',')\n",
        "        for j in tmc:\n",
        "            indi_tmc.append(j)\n",
        "        if len(indi_tmc)>0:\n",
        "            for indi in indi_tmc:\n",
        "                tag = 0\n",
        "                tmp_JF = []\n",
        "                tmp_SR = []\n",
        "                for i in range(len(TMC_Id_for_Matching)):\n",
        "                    date_time_str = Date[i]\n",
        "\n",
        "                    TD = datetime.datetime.strptime(date_time_str, '%Y-%m-%d')\n",
        "                    Date_Traffic = TD.date()\n",
        "                    hour_Traffic = TD.hour\n",
        "                    if indi==TMC_Id_for_Matching[i] and date_viricity==Date_Traffic:\n",
        "\n",
        "                        hour_list=Hour[i]\n",
        "                        JF = Hourly_Jam_Factor[i]\n",
        "                        RS = Hourly_Speed_Real[i]\n",
        "                        FF = Hourly_Speed_Freeflow[i]\n",
        "\n",
        "                        for h in hour_list:\n",
        "                            if h==hour_viricity:\n",
        "                                index = hour_list.index(h)\n",
        "                                tmp_JF.append(JF[index])\n",
        "                                ratio = RS[index]/FF[index]\n",
        "                                tmp_SR.append(ratio)\n",
        "                                tag = 1\n",
        "                if tag != 1:\n",
        "                    tmp_SR.append(1)\n",
        "                    tmp_JF.append(0)\n",
        "\n",
        "            Jam_Factor.append(sum(tmp_JF)/len(tmp_JF))\n",
        "            Speed_Ratio.append(sum(tmp_SR)/len(tmp_SR))\n",
        "        else:\n",
        "            Speed_Ratio.append(1)\n",
        "            Jam_Factor.append(0)\n",
        "    else:\n",
        "        Speed_Ratio.append(1)\n",
        "        Jam_Factor.append(0)\n",
        "\n",
        "\n",
        "\n",
        "df['Speed_Ratio'] = Speed_Ratio\n",
        "df['Jam_Factor'] = Jam_Factor\n",
        "\n",
        "df.to_csv(f'{Vehicle_Name}_with_Elevation_Weather_Traffic_Day_Week.csv',index=False)"
      ],
      "execution_count": null,
      "outputs": []
    }
  ]
}