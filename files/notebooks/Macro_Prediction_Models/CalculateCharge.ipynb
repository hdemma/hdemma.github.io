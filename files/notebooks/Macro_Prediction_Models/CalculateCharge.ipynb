{
  "nbformat": 4,
  "nbformat_minor": 0,
  "metadata": {
    "colab": {
      "name": "CalculateCharge.ipynb",
      "provenance": [],
      "collapsed_sections": [],
      "authorship_tag": "ABX9TyPB4fnQdSGPQuReo9VmtNja",
      "include_colab_link": true
    },
    "kernelspec": {
      "name": "python3",
      "display_name": "Python 3"
    }
  },
  "cells": [
    {
      "cell_type": "markdown",
      "metadata": {
        "id": "view-in-github",
        "colab_type": "text"
      },
      "source": [
        "<a href=\"https://colab.research.google.com/github/hdemma/hdemma.github.io/blob/master/Macro_Prediction_Models/CalculateCharge.ipynb\" target=\"_parent\"><img src=\"https://colab.research.google.com/assets/colab-badge.svg\" alt=\"Open In Colab\"/></a>"
      ]
    },
    {
      "cell_type": "code",
      "metadata": {
        "id": "1MPmTQCUadc3",
        "colab_type": "code",
        "colab": {}
      },
      "source": [
        "import pandas as pd\n",
        "import tqdm\n",
        "from geopy.distance import geodesic"
      ],
      "execution_count": 1,
      "outputs": []
    },
    {
      "cell_type": "code",
      "metadata": {
        "id": "e5A3ieiQtNbV",
        "colab_type": "code",
        "colab": {
          "base_uri": "https://localhost:8080/",
          "height": 136
        },
        "outputId": "8b3d7b90-c4c6-48bf-ae7d-860e278432ae"
      },
      "source": [
        "#obtain the repository\n",
        "!git clone https://github.com/hdemma/hdemma.github.io.git"
      ],
      "execution_count": 2,
      "outputs": [
        {
          "output_type": "stream",
          "text": [
            "Cloning into 'hdemma.github.io'...\n",
            "remote: Enumerating objects: 30, done.\u001b[K\n",
            "remote: Counting objects: 100% (30/30), done.\u001b[K\n",
            "remote: Compressing objects: 100% (27/27), done.\u001b[K\n",
            "remote: Total 429 (delta 7), reused 0 (delta 0), pack-reused 399\u001b[K\n",
            "Receiving objects: 100% (429/429), 71.95 MiB | 31.17 MiB/s, done.\n",
            "Resolving deltas: 100% (165/165), done.\n"
          ],
          "name": "stdout"
        }
      ]
    },
    {
      "cell_type": "code",
      "metadata": {
        "id": "lXhfQ71CbAT7",
        "colab_type": "code",
        "colab": {}
      },
      "source": [
        "## Initialization\n",
        "garageCo = (35.0567932128906, -85.2698516845703)\n",
        "TotalEnergy = 972000000 #Total Capacity of Battery = 270KWh\n",
        "Vehicle_Type = 'Electric_Vehicles'\n",
        "Vehicle_ID = [751]\n",
        "Path = f''\n",
        "\n"
      ],
      "execution_count": 3,
      "outputs": []
    },
    {
      "cell_type": "markdown",
      "metadata": {
        "id": "nhKwFBHMikcH",
        "colab_type": "text"
      },
      "source": [
        "Removing Garage Coordinates"
      ]
    },
    {
      "cell_type": "code",
      "metadata": {
        "id": "PdvbyPL0inZ6",
        "colab_type": "code",
        "colab": {}
      },
      "source": [
        "def RemovingGarageCoordinates(df):\n",
        "    listTimestamps = []\n",
        "    Latitude = df['GPS - GPS position Latitude']\n",
        "    Longitude = df['GPS - GPS position Longitude']\n",
        "    TimeStamp = list(df['Unix Timestamp [ms]'])\n",
        "    Date_and_Time = df['Time [US/Central]']\n",
        "\n",
        "\n",
        "    for i in tqdm.tqdm(range(0, len(df)-1)):\n",
        "        if geodesic(garageCo,(Latitude[i],Longitude[i])).meters < 400:\n",
        "            TimeStamp[i] = None\n",
        "            if geodesic(garageCo,(Latitude[i+1],Longitude[i+1])).meters >= 400:\n",
        "                listTimestamps.append(TimeStamp[i+1])\n",
        "\n",
        "    df['Unix Timestamp [ms]'] = TimeStamp\n",
        "    df = df[pd.notnull(df['Unix Timestamp [ms]'])]\n",
        "    return listTimestamps,df"
      ],
      "execution_count": 4,
      "outputs": []
    },
    {
      "cell_type": "markdown",
      "metadata": {
        "id": "Z54-U677jq_h",
        "colab_type": "text"
      },
      "source": [
        "Removing Charging Coordinates"
      ]
    },
    {
      "cell_type": "code",
      "metadata": {
        "id": "IikURYm3jtYR",
        "colab_type": "code",
        "colab": {}
      },
      "source": [
        "def RemoveCharge(df):\n",
        "    df = df.drop(df[df['Charge - Charge cable connection status'] ==1].index)\n",
        "    return df"
      ],
      "execution_count": 5,
      "outputs": []
    },
    {
      "cell_type": "code",
      "metadata": {
        "id": "ZHKH296PawP8",
        "colab_type": "code",
        "colab": {
          "base_uri": "https://localhost:8080/",
          "height": 255
        },
        "outputId": "822eb36b-8d8b-4db2-dbf8-0405c7088103"
      },
      "source": [
        "for v in Vehicle_ID:\n",
        "    Vehicle_Name = f'BYD_{v}'\n",
        "    print(f'Processing {Vehicle_Name}')\n",
        "    csv_url = 'file:///content/hdemma.github.io/Dataset/Electric_Vehicles/BYD_751_SampleData.csv'\n",
        "    df = pd.read_csv(csv_url, low_memory=False,header=0) #Sample one month data\n",
        "    \n",
        "    print(f'Length = {len(df)}')\n",
        "    print(df.columns)\n",
        "\n",
        "\n",
        "    \n",
        "\n",
        "    for column in df.columns:\n",
        "        if column != 'Charge - Charge cable connection status' or column == 'Charge - Charging status':\n",
        "            df[column].interpolate('linear', inplace=True, limit_direction='both')\n",
        "\n",
        "    print(\"Interpolation_Done\")\n",
        "\n",
        "    listTimestamps,newDf = RemovingGarageCoordinates(df)\n",
        "\n",
        "    newDf.to_csv(f'{Path}{Vehicle_Name}_After_TakingOut_GarageCoordinates.csv',index=False)\n",
        "\n",
        "\n",
        "    df_with_Charge = pd.read_csv(f'{Path}{Vehicle_Name}_After_TakingOut_GarageCoordinates.csv')\n",
        "    print(len(df_with_Charge))\n",
        "\n",
        "    \n",
        "    df = RemoveCharge(df_with_Charge)\n",
        "    print(len(df))\n",
        "    \n",
        "\n",
        "    BatteryCurrent = list(df['Battery - Battery current [A]'])\n",
        "    BatteryVoltage = list(df['Battery - Battery voltage [V]'])\n",
        "    TimeStamp = list(df['Unix Timestamp [ms]'])\n",
        "    StateOfCharge = list(df['Battery - State of charge [%]'])\n",
        "\n",
        "    energy = []\n",
        "    EnergyGiven_from_VIRICITY = []\n",
        "    Computed_SOC = []\n",
        "\n",
        "    for i in tqdm.tqdm(range(0, len(df))):\n",
        "\n",
        "        if i == 0:\n",
        "            energy_Upto_this_Index = TotalEnergy - StateOfCharge[i] * TotalEnergy/100  # energy that was consumed initially\n",
        "            energy_initial = StateOfCharge[i] * TotalEnergy/100  # Only for the first index\n",
        "            energy.append(energy_initial)\n",
        "            EnergyGiven_from_VIRICITY = [StateOfCharge[i] * TotalEnergy / 100]\n",
        "            Computed_SOC.append(StateOfCharge[i])\n",
        "\n",
        "\n",
        "        else:\n",
        "            if (TimeStamp[i] in listTimestamps):\n",
        "                energy_Upto_this_Index = TotalEnergy - (StateOfCharge[i] * TotalEnergy/100)\n",
        "                energy.append(energy_Upto_this_Index)  # total energy - energy consumpted until i\n",
        "                EnergyGiven_from_VIRICITY.append(StateOfCharge[i] * TotalEnergy / 100)\n",
        "                Computed_SOC.append(StateOfCharge[i])\n",
        "                i += 1\n",
        "\n",
        "            else:\n",
        "                Power = BatteryCurrent[i] * BatteryVoltage[i]\n",
        "                energy_Upto_this_Index += (Power * (TimeStamp[i] - TimeStamp[i - 1]) / 1000) # to get rid of ms from the TS\n",
        "                energy.append(TotalEnergy - energy_Upto_this_Index)  # total energy - energy consumpted until i\n",
        "                EnergyGiven_from_VIRICITY.append(StateOfCharge[i] * TotalEnergy / 100)\n",
        "                Computed_SOC.append(energy[i] * 100 / TotalEnergy)\n",
        "\n",
        "\n",
        "\n",
        "    df['Computed_Energy'] = energy\n",
        "    df['EnergyGivenFromVIRICITY'] = EnergyGiven_from_VIRICITY\n",
        "    df['Computed_SoC_%'] = Computed_SOC\n",
        "    \n",
        "    %cd /content/hdemma.github.io/Dataset/Electric_Vehicles/\n",
        "\n",
        "    df.to_csv(f'{Vehicle_Name}_AfterEnergyCalculation.csv',index=False)\n"
      ],
      "execution_count": 9,
      "outputs": [
        {
          "output_type": "stream",
          "text": [
            "Processing BYD_751\n",
            "Length = 200000\n",
            "Index(['Unix Timestamp [ms]', 'Time [US/Central]',\n",
            "       'Battery - Battery current [A]', 'Battery - State of charge [%]',\n",
            "       'Battery - Battery voltage [V]',\n",
            "       'Charge - Charge cable connection status', 'Charge - Charging status',\n",
            "       'GPS - GPS position Latitude', 'GPS - GPS position Longitude'],\n",
            "      dtype='object')\n"
          ],
          "name": "stdout"
        },
        {
          "output_type": "stream",
          "text": [
            "  0%|          | 242/199999 [00:00<01:22, 2418.96it/s]"
          ],
          "name": "stderr"
        },
        {
          "output_type": "stream",
          "text": [
            "Interpolation_Done\n"
          ],
          "name": "stdout"
        },
        {
          "output_type": "stream",
          "text": [
            "100%|██████████| 199999/199999 [01:11<00:00, 2790.67it/s]\n",
            "100%|██████████| 82479/82479 [00:00<00:00, 608835.22it/s]"
          ],
          "name": "stderr"
        },
        {
          "output_type": "stream",
          "text": [
            "82479\n",
            "82479\n"
          ],
          "name": "stdout"
        },
        {
          "output_type": "stream",
          "text": [
            "\n"
          ],
          "name": "stderr"
        },
        {
          "output_type": "stream",
          "text": [
            "/content/hdemma.github.io/Dataset/Electric_Vehicles\n"
          ],
          "name": "stdout"
        }
      ]
    }
  ]
}