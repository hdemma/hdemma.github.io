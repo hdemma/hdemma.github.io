{
  "nbformat": 4,
  "nbformat_minor": 0,
  "metadata": {
    "colab": {
      "name": "addHourlyWeather.ipynb",
      "provenance": [],
      "authorship_tag": "ABX9TyO3/alhZeUKXaeX1bSQgPYP",
      "include_colab_link": true
    },
    "kernelspec": {
      "name": "python3",
      "display_name": "Python 3"
    }
  },
  "cells": [
    {
      "cell_type": "markdown",
      "metadata": {
        "id": "view-in-github",
        "colab_type": "text"
      },
      "source": [
        "<a href=\"https://colab.research.google.com/github/hdemma/hdemma.github.io/blob/master/Macro_Prediction_Models/addHourlyWeather.ipynb\" target=\"_parent\"><img src=\"https://colab.research.google.com/assets/colab-badge.svg\" alt=\"Open In Colab\"/></a>"
      ]
    },
    {
      "cell_type": "code",
      "metadata": {
        "id": "csO_qQfKYUcK",
        "colab_type": "code",
        "colab": {}
      },
      "source": [
        "import pandas as pd\n",
        "import datetime\n",
        "import tqdm"
      ],
      "execution_count": null,
      "outputs": []
    },
    {
      "cell_type": "code",
      "metadata": {
        "id": "jswIbVyWYhq8",
        "colab_type": "code",
        "colab": {}
      },
      "source": [
        "#initialization\n",
        "Vehicle_Type = 'Electric_Vehicles'\n",
        "Vehicle_ID = [751]\n",
        "\n",
        "dateFormat = '%Y-%m-%d'\n",
        "datetimeFormat = '%Y-%m-%d %H:%M:%S:%f'\n"
      ],
      "execution_count": null,
      "outputs": []
    },
    {
      "cell_type": "code",
      "metadata": {
        "id": "s2ReXJWwYYXj",
        "colab_type": "code",
        "colab": {}
      },
      "source": [
        "weatherData = pd.read_csv(f'Chattanooga_Weather_August19_July20.csv', low_memory=False)\n",
        "\n",
        "print(len(weatherData))\n",
        "\n",
        "\n",
        "Date_from_WeatherData = weatherData.Date\n",
        "Hour_from_WeatherData = weatherData.Hour\n",
        "Lat_WEATHER = weatherData.Center_Lat\n",
        "Long_WEATHER = weatherData.Center_Long\n",
        "apparentTemperature_WEATHER = weatherData.apparentTemperature\n",
        "humidity_WEATHER = weatherData.humidity\n",
        "precipIntensity_WEATHER = weatherData.precipIntensity\n",
        "temperature_WEATHER = weatherData.temperature\n",
        "visibility_WEATHER = weatherData.visibility\n",
        "windSpeed_WEATHER = weatherData.windSpeed\n",
        "\n",
        "print(len(weatherData))\n",
        "\n",
        "\n",
        "\n",
        "Date_from_Weather = []\n",
        "for i in Date_from_WeatherData:\n",
        "    timestamp = i\n",
        "    TD = datetime.datetime.strptime(timestamp, dateFormat)\n",
        "    Date_from_Weather.append(TD.date())\n",
        "\n",
        "print(f\"Length of weatherData = {len(weatherData)}\")"
      ],
      "execution_count": null,
      "outputs": []
    },
    {
      "cell_type": "code",
      "metadata": {
        "id": "jeiz9jV9YyYN",
        "colab_type": "code",
        "colab": {}
      },
      "source": [
        "for v in V:\n",
        "    Vehicle_Name = f'BYD_{v}'\n",
        "    print(f'Processing {Vehicle_Name}')\n",
        "    df = pd.read_csv(f'{Path}{Vehicle_Name}_With_Elevation_Data.csv', low_memory=False)\n",
        "    print(len(df))\n",
        "    print(df.columns)\n",
        "\n",
        "    datetimeFormat = '%Y-%m-%d %H:%M:%S:%f'\n",
        "    Time = df.TimeStart\n",
        "    Lat_ViriCity = df.Initial_recorded_Latitude\n",
        "    Long_ViriCity = df.Initial_recorded_Longitude\n",
        "    Date_from_ViriCity = []\n",
        "    Hour_from_ViriCity = []\n",
        "\n",
        "    for i in Time:\n",
        "        timestamp = i\n",
        "        TD = datetime.datetime.strptime(timestamp, datetimeFormat)\n",
        "        Date_from_ViriCity.append(TD.date())\n",
        "        Hour_from_ViriCity.append(TD.hour)\n",
        "\n",
        "    print(len(Hour_from_ViriCity))\n",
        "\n",
        "\n",
        "    datetimeFormat = '%Y-%m-%d %H:%M:%S:%f'\n",
        "    Time = df.TimeStart\n",
        "    Lat_ViriCity = df.Initial_recorded_Latitude\n",
        "    Long_ViriCity = df.Initial_recorded_Longitude\n",
        "    Date_from_ViriCity = []\n",
        "    Hour_from_ViriCity = []\n",
        "\n",
        "    for i in Time:\n",
        "        timestamp = i\n",
        "      \n",
        "        TD = datetime.datetime.strptime(timestamp, datetimeFormat)\n",
        "\n",
        "        if TD>= datetime.datetime(2019, 11, 1) and TD <datetime.datetime(2019, 12, 5) : #Data in this range is missing. So, for november, i use data from december\n",
        "            # print(TD.date())\n",
        "            dateString = str(TD.date())\n",
        "            dateString=dateString.replace('-11-','-12-')\n",
        "            # print(dateString)\n",
        "            from datetime import datetime\n",
        "            date_time_obj = datetime.strptime(dateString, '%Y-%m-%d')\n",
        "            Date_from_ViriCity.append(date_time_obj.date())\n",
        "            Hour_from_ViriCity.append(date_time_obj.hour)\n",
        "        else:\n",
        "            Date_from_ViriCity.append(TD.date())\n",
        "            Hour_from_ViriCity.append(TD.hour)\n",
        "\n",
        "    print(len(Hour_from_ViriCity))\n",
        "\n",
        "    humidity = []\n",
        "    precipIntensity = []\n",
        "    temperature = []\n",
        "    visibility = []\n",
        "    windSpeed = []\n",
        "\n",
        "\n",
        "    for i in tqdm.tqdm(range(len(Date_from_ViriCity))):\n",
        "        c = 0\n",
        "        for j in range(len(Date_from_Weather)):\n",
        "            if (Date_from_ViriCity[i] == Date_from_Weather[j]) and (Hour_from_ViriCity[i] == int(Hour_from_WeatherData[j])):\n",
        "                \n",
        "                humidity.append(humidity_WEATHER[j])\n",
        "                precipIntensity.append(precipIntensity_WEATHER[j])\n",
        "                temperature.append(temperature_WEATHER[j])\n",
        "                visibility.append(visibility_WEATHER[j])\n",
        "                windSpeed.append(windSpeed_WEATHER[j])\n",
        "                x = j\n",
        "                c+=1\n",
        "                break\n",
        "\n",
        "        if c==0: #for missing weather-data on a particular time of day, I use the weather values from the last available hour.\n",
        "            humidity.append(humidity_WEATHER[x])\n",
        "            precipIntensity.append(precipIntensity_WEATHER[x])\n",
        "            temperature.append(temperature_WEATHER[x])\n",
        "            visibility.append(visibility_WEATHER[x])\n",
        "            windSpeed.append(windSpeed_WEATHER[x])\n",
        "\n",
        "    print(len(humidity))\n",
        "    print(len(precipIntensity))\n",
        "    print(len(temperature))\n",
        "    print(len(visibility))\n",
        "    print(len(windSpeed))\n",
        "\n",
        "    df['humidity'] = humidity\n",
        "    df['precipIntensity'] = precipIntensity\n",
        "    df['temperature'] = temperature\n",
        "    df['visibility'] = visibility\n",
        "    df['windSpeed'] = windSpeed\n",
        "\n",
        "\n",
        "    df.to_csv(f'{Vehicle_Name}_with_Elevation_Weather.csv',index=False)\n"
      ],
      "execution_count": null,
      "outputs": []
    }
  ]
}