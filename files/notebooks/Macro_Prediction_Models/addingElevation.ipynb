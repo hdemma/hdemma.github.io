{
  "nbformat": 4,
  "nbformat_minor": 0,
  "metadata": {
    "colab": {
      "name": "addingElevation.ipynb",
      "provenance": [],
      "authorship_tag": "ABX9TyM4BrgE6NLu7XhchYpqOveE",
      "include_colab_link": true
    },
    "kernelspec": {
      "name": "python3",
      "display_name": "Python 3"
    }
  },
  "cells": [
    {
      "cell_type": "markdown",
      "metadata": {
        "id": "view-in-github",
        "colab_type": "text"
      },
      "source": [
        "<a href=\"https://colab.research.google.com/github/hdemma/hdemma.github.io/blob/master/Macro_Prediction_Models/addingElevation.ipynb\" target=\"_parent\"><img src=\"https://colab.research.google.com/assets/colab-badge.svg\" alt=\"Open In Colab\"/></a>"
      ]
    },
    {
      "cell_type": "code",
      "metadata": {
        "id": "pY7qwrKFXZX7",
        "colab_type": "code",
        "colab": {}
      },
      "source": [
        "import rasterio\n",
        "from pyproj import Proj, transform\n",
        "import csv\n",
        "import pandas as pd\n",
        "import tqdm"
      ],
      "execution_count": null,
      "outputs": []
    },
    {
      "cell_type": "code",
      "metadata": {
        "id": "fOJE2EFWXhdc",
        "colab_type": "code",
        "colab": {}
      },
      "source": [
        "Vehicle_Type = 'Electric_Vehicles'\n",
        "Vehicle_ID = [751]"
      ],
      "execution_count": null,
      "outputs": []
    },
    {
      "cell_type": "markdown",
      "metadata": {
        "id": "F_L1HdBnX6Ed",
        "colab_type": "text"
      },
      "source": [
        "Filesize of w001001.adf is too big"
      ]
    },
    {
      "cell_type": "code",
      "metadata": {
        "id": "iWiNJ4KLJOl-",
        "colab_type": "code",
        "colab": {}
      },
      "source": [
        "## Must be same format as test_coordinates, Longitude, Latitude,\n",
        "## with one row for header\n",
        "# elevation = '../DataSet/Elevation/w001001.adf'\n",
        "elevation = 'data/w001001.adf'\n",
        "\n",
        "def GettingElevation(xs,ys):\n",
        "    Elevation = []\n",
        "    with rasterio.open(elevation) as src:\n",
        "        if(len(xs)==len(ys)):\n",
        "            for i in tqdm.tqdm(range (len(xs))):\n",
        "                ## First, need to project google coordinates\n",
        "                ## into the same coordinate system as the raster\n",
        "                inProj = Proj('epsg:4326')\n",
        "                outProj = Proj(src.crs)\n",
        "                x1, y1 = xs[i], ys[i]\n",
        "                x2,y2 = transform(inProj,outProj,y1,x1)\n",
        "                for val in src.sample([(x2, y2)]):\n",
        "                    Elevation.append(val[0])\n",
        "        else:\n",
        "            print(\"Uneven arrays. Try again\")\n",
        "\n",
        "\n",
        "    return Elevation"
      ],
      "execution_count": null,
      "outputs": []
    },
    {
      "cell_type": "code",
      "metadata": {
        "id": "k_sCtCkYXZGS",
        "colab_type": "code",
        "colab": {}
      },
      "source": [
        "for v in Vehicle_ID:\n",
        "    Vehicle_Name = f'BYD_{v}'\n",
        "    print(f'Processing {Vehicle_Name}')\n",
        "\n",
        "    df = pd.read_csv(f'{Vehicle_Name}_with_all_Samples_without_Outliers.csv',low_memory=False)\n",
        "    print(len(df))\n",
        "\n",
        "    Initial_Lat = list(df['Initial_recorded_Latitude'])\n",
        "    Initial_Long = list(df['Initial_recorded_Longitude'])\n",
        "    Final_Lat = list(df['Final_recorded_Latitude'])\n",
        "    Final_Long = list(df['Final_recorded_Longitude'])\n",
        "\n",
        "\n",
        "    print('Start_Elevation\\n')\n",
        "    Start_Elevation = GettingElevation(Initial_Long,Initial_Lat)\n",
        "    print('Stop_Elevation\\n')\n",
        "    Stop_Elevation = GettingElevation(Final_Long,Final_Lat)\n",
        "\n",
        "    Change_In_Elevation = []\n",
        "    for i in range(len(Start_Elevation)):\n",
        "        diff = Stop_Elevation[i] - Start_Elevation[i]\n",
        "        Change_In_Elevation.append(diff)\n",
        "\n",
        "    \n",
        "    df['Change_In_Elevation'] = pd.Series(Change_In_Elevation)\n",
        "    csv = (f'{Vehicle_Name}_With_Elevation_Data.csv')\n",
        "    df.to_csv(csv, index=False)"
      ],
      "execution_count": null,
      "outputs": []
    }
  ]
}