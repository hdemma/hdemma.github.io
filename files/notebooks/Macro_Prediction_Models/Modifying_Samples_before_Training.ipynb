{
  "nbformat": 4,
  "nbformat_minor": 0,
  "metadata": {
    "colab": {
      "name": "Modifying_Samples_before_Training.ipynb",
      "provenance": [],
      "authorship_tag": "ABX9TyNu2YniJ0rOheTbWxg23EbI",
      "include_colab_link": true
    },
    "kernelspec": {
      "name": "python3",
      "display_name": "Python 3"
    }
  },
  "cells": [
    {
      "cell_type": "markdown",
      "metadata": {
        "id": "view-in-github",
        "colab_type": "text"
      },
      "source": [
        "<a href=\"https://colab.research.google.com/github/hdemma/hdemma.github.io/blob/master/Macro_Prediction_Models/Modifying_Samples_before_Training.ipynb\" target=\"_parent\"><img src=\"https://colab.research.google.com/assets/colab-badge.svg\" alt=\"Open In Colab\"/></a>"
      ]
    },
    {
      "cell_type": "code",
      "metadata": {
        "id": "n6n4lUZJdMEa",
        "colab_type": "code",
        "colab": {}
      },
      "source": [
        "import pandas as pd"
      ],
      "execution_count": null,
      "outputs": []
    },
    {
      "cell_type": "code",
      "metadata": {
        "id": "urDokbgkdVjf",
        "colab_type": "code",
        "colab": {}
      },
      "source": [
        "Vehicle_Type = 'Electric_Vehicles'\n",
        "Path = f'Pre_Covid/'\n",
        "Covid = 'PreCovid'\n",
        "Vehicle_Name = 'BYD2017'"
      ],
      "execution_count": null,
      "outputs": []
    },
    {
      "cell_type": "code",
      "metadata": {
        "id": "e1-fYCFoddJh",
        "colab_type": "code",
        "colab": {}
      },
      "source": [
        "print(f'Processing {Vehicle_Name}')\n",
        "data = pd.read_csv(f'{Vehicle_Name}_with_Elevation_Weather_Traffic_Day_Week_{Covid}.csv')\n",
        "\n",
        "print(data.columns)\n",
        "\n",
        "data.drop('Sample', axis=1, inplace=True)\n",
        "data.drop('OSM_Feature', axis=1, inplace=True)\n",
        "\n",
        "data.drop('Initial_recorded_Latitude', axis=1, inplace=True)\n",
        "data.drop('Initial_recorded_Longitude', axis=1, inplace=True)\n",
        "data.drop('Final_recorded_Latitude', axis=1, inplace=True)\n",
        "data.drop('Final_recorded_Longitude', axis=1, inplace=True)\n",
        "\n",
        "data.drop('TimeStart', axis=1, inplace=True)\n",
        "data.drop('TimeFinish', axis=1, inplace=True)\n",
        "\n",
        "data.drop('TimeStamp_Begin', axis=1, inplace=True)\n",
        "data.drop('TimeStamp_End', axis=1, inplace=True)\n",
        "\n",
        "data.drop('Energy_at_Begining', axis=1, inplace=True)\n",
        "data.drop('Energy_at_Final', axis=1, inplace=True)\n",
        "\n",
        "\n",
        "df_reorder = data[[\"Distance\",\"TimeNeeded_in_Seconds\", \"Day_of_Week\", \"Time_of_Day\",\n",
        "                    'Primary', 'Primary_link', 'Secondary', 'Secondary_link', 'Tertiary',\n",
        "                    'Tertiary_link', 'Trunk', 'Motorway', 'Motorway_link',\n",
        "                    'Service', 'Residential', 'Track',\n",
        "                    'Unknown', 'Unclassified',\n",
        "                    \"Change_In_Elevation\",\n",
        "                    'humidity', 'precipIntensity', 'temperature', 'visibility','windSpeed',\n",
        "                    'Speed_Ratio','Jam_Factor',\n",
        "                    \"Energy_Consumed\"]] # rearrange column here\n",
        "\n",
        "\n",
        "df = df_reorder\n",
        "\n",
        "\n",
        "print(df.describe())\n",
        "\n",
        "df.to_csv(f'{Vehicle_Name}_Final_Training_Samples_{Covid}.csv',index=False)\n"
      ],
      "execution_count": null,
      "outputs": []
    }
  ]
}