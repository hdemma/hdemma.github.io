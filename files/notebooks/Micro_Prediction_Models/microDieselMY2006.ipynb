{
 "cells": [
  {
   "cell_type": "code",
   "execution_count": 2,
   "id": "filled-joseph",
   "metadata": {},
   "outputs": [],
   "source": [
    "import scipy\n",
    "import statsmodels\n",
    "import sklearn\n",
    "import theano\n",
    "import tensorflow\n",
    "import keras\n",
    "import glob\n",
    "import os\n",
    "import numpy as np\n",
    "from keras.models import Sequential\n",
    "from keras.layers import Dense\n",
    "import pandas as pd\n",
    "import math\n",
    "import matplotlib.pyplot as plt"
   ]
  },
  {
   "cell_type": "code",
   "execution_count": 3,
   "id": "leading-norfolk",
   "metadata": {},
   "outputs": [
    {
     "name": "stdout",
     "output_type": "stream",
     "text": [
      "399852\n"
     ]
    },
    {
     "data": {
      "text/plain": [
       "Index(['Unix Timestamp [ms]', 'Time ISO', 'Time [US/Eastern]', 'Name',\n",
       "       'Analysis - other - Average speed in service [mi/h]',\n",
       "       'Analysis - fuel - Fuel used [gal]',\n",
       "       'Analysis - other - Distance driven [mi]',\n",
       "       'Vehicle - Acceleratorpedal Position [%]',\n",
       "       'Vehicle - Ambient Air Temperature [°F]',\n",
       "       'Engine - Engine Fuel Rate [gal/h]', 'Engine - Engine Speed [rpm]',\n",
       "       'Vehicle - Wheel Based Vehicle Speed [mi/h]', 'GPS - Altitude [m]',\n",
       "       'GPS - GPS position Latitude', 'GPS - GPS position Longitude'],\n",
       "      dtype='object')"
      ]
     },
     "execution_count": 3,
     "metadata": {},
     "output_type": "execute_result"
    }
   ],
   "source": [
    "#read data\n",
    "df = pd.read_csv('./Data/gill136_2021-02-01-0000_2021-02-08-0000.csv', index_col=False)\n",
    "print(len(df))\n",
    "df.columns"
   ]
  },
  {
   "cell_type": "code",
   "execution_count": 4,
   "id": "north-winner",
   "metadata": {},
   "outputs": [],
   "source": [
    "#process raw data\n",
    "df['elevation']=0 #fix here\n",
    "df['elevdiff']=df['elevation'].diff() #ft\n",
    "df['elevdiff']=df['elevation']*0.000189394 #convert ft to mile\n",
    "df['distdiff']=df['Analysis - other - Distance driven [mi]'].diff()\n",
    "df['roadGrade']=df['elevdiff']/df['distdiff']\n",
    "df['temp']=df['Vehicle - Ambient Air Temperature [°F]']\n",
    "df['speed'] = df['Vehicle - Wheel Based Vehicle Speed [mi/h]']*1.60934 #convert to km/h\n",
    "#interpolate if raw data is unfilled\n",
    "FuelRate = df['Engine - Engine Fuel Rate [gal/h]']\n",
    "FuelRate = FuelRate.interpolate()\n",
    "df['FuelRate'] = FuelRate\n",
    "Speed = df['speed']\n",
    "Speed = Speed.interpolate()\n",
    "df['speed'] = Speed\n",
    "df=df[['speed','FuelRate']]"
   ]
  },
  {
   "cell_type": "code",
   "execution_count": 5,
   "id": "structured-peace",
   "metadata": {},
   "outputs": [],
   "source": [
    "#calculate acceleration\n",
    "speedms = df['speed']*1000/3600\n",
    "df['acceleration']=speedms.diff() #unit: m/s^2\n",
    "df = df.drop(df[df.FuelRate == 0].index)\n",
    "df=df.dropna()"
   ]
  },
  {
   "cell_type": "code",
   "execution_count": 6,
   "id": "satisfied-apparel",
   "metadata": {},
   "outputs": [],
   "source": [
    "#split train and test datasets\n",
    "train = df.sample(n=math.floor(0.8*df.shape[0]))\n",
    "test = df.sample(n=math.ceil(0.2*df.shape[0]))"
   ]
  },
  {
   "cell_type": "code",
   "execution_count": 7,
   "id": "formal-electron",
   "metadata": {},
   "outputs": [],
   "source": [
    "#build ann model\n",
    "Y_train = train['FuelRate'] #unit: gal/h\n",
    "X_train = train[['speed','acceleration']]\n",
    "Y_test = test['FuelRate']\n",
    "X_test = test[['speed','acceleration']]\n",
    "model = Sequential()\n",
    "model.add(Dense(6,kernel_initializer='normal', input_dim=2, activation ='relu'))\n",
    "model.add(Dense(6, kernel_initializer='normal', activation ='relu'))\n",
    "model.add(Dense(1,kernel_initializer='normal', activation ='linear'))\n",
    "model.compile(loss='mean_absolute_error', optimizer='adam')"
   ]
  },
  {
   "cell_type": "code",
   "execution_count": 8,
   "id": "compound-brunei",
   "metadata": {},
   "outputs": [
    {
     "name": "stdout",
     "output_type": "stream",
     "text": [
      "WARNING:tensorflow:From C:\\ProgramData\\Anaconda3\\lib\\site-packages\\keras\\backend\\tensorflow_backend.py:422: The name tf.global_variables is deprecated. Please use tf.compat.v1.global_variables instead.\n",
      "\n"
     ]
    },
    {
     "data": {
      "image/png": "[encoded data removed]",
      "text/plain": [
       "<Figure size 432x288 with 1 Axes>"
      ]
     },
     "metadata": {
      "needs_background": "light"
     },
     "output_type": "display_data"
    }
   ],
   "source": [
    "#fit model\n",
    "history = model.fit(X_train, Y_train, validation_data=(X_test, Y_test), epochs=30, batch_size=256, verbose = 0)\n",
    "#performance\n",
    "plt.plot(history.history['loss'], label='train')\n",
    "plt.plot(history.history['val_loss'], label='test')\n",
    "plt.legend()\n",
    "plt.show()"
   ]
  },
  {
   "cell_type": "code",
   "execution_count": 37,
   "id": "aboriginal-local",
   "metadata": {},
   "outputs": [],
   "source": [
    "#predict all trips in a for loop\n",
    "path = r'path/'                    \n",
    "all_files = glob.glob(os.path.join(path, \"Trajectory*.csv\")) \n",
    "colnames=['time_ms','speed','acceleration','vehicle_ref','actorConfig_id','actorConfig_emissionClass','actorConfig_fuel','actorConfig_ref','actorConfig_vehicleClass']\n",
    "for f in all_files:\n",
    "#     print(f[65:72])\n",
    "    trip=pd.read_csv(f,names=colnames, header=None)\n",
    "    trip['speed']=trip['speed']*(0.01*3.6) \n",
    "    #km/h\n",
    "    trip['acceleration']=trip['acceleration']*(0.001) \n",
    "    #m/s2\n",
    "    input2esti=trip[['speed','acceleration']]\n",
    "    #prdiction and plot results\n",
    "    pre = model.predict(input2esti)\n",
    "    tripf=pd.concat([trip,pd.DataFrame(pre,columns=['FuelRate'])], axis=1) \n",
    "    with open('./Data/diesel/' + 'diesel' + f[65:73] +'_'+ f[-12:-4] + '.csv', 'w', newline='') as oFile:\n",
    "        tripf.to_csv(oFile, index = False)"
   ]
  },
  {
   "cell_type": "code",
   "execution_count": 9,
   "id": "yellow-workplace",
   "metadata": {},
   "outputs": [],
   "source": [
    "#read trajectory data that needs prediction\n",
    "trip = pd.read_csv(\"./Route1_trip151687020_065500.csv\")\n",
    "trip['speed']=trip['speed']*(0.01*3.6) \n",
    "#km/h\n",
    "trip['acceleration']=trip['acceleration']*(0.001) \n",
    "#m/s2\n",
    "input2esti=trip[['speed','acceleration']]\n"
   ]
  },
  {
   "cell_type": "code",
   "execution_count": 10,
   "id": "suited-acoustic",
   "metadata": {},
   "outputs": [
    {
     "data": {
      "image/png": "[encoded data removed]",
      "text/plain": [
       "<Figure size 432x288 with 1 Axes>"
      ]
     },
     "metadata": {
      "needs_background": "light"
     },
     "output_type": "display_data"
    }
   ],
   "source": [
    "#prdiction and plot results\n",
    "pre = model.predict(input2esti)\n",
    "\n",
    "tripf=pd.concat([trip,pd.DataFrame(pre,columns=['FuelRate'])], axis=1) \n",
    "\n",
    "fig, ax1 = plt.subplots(figsize=(6, 4))\n",
    "ax1.plot(tripf.index, tripf.FuelRate, color='blue', linewidth=1)\n",
    "ax1.set_xticks(tripf.index[::360])\n",
    "ax1.set_xticklabels(tripf.time[::360], rotation=45)\n",
    "plt.tight_layout(pad=4)\n",
    "plt.subplots_adjust(bottom=0.15)\n",
    "plt.xlabel(\"Time\",fontsize = 14)\n",
    "plt.ylabel(\"Fuel consumption rate (gal/h)\",fontsize = 14)\n",
    "plt.show()"
   ]
  },
  {
   "cell_type": "code",
   "execution_count": null,
   "id": "generic-implement",
   "metadata": {},
   "outputs": [],
   "source": []
  }
 ],
 "metadata": {
  "kernelspec": {
   "display_name": "Python 3",
   "language": "python",
   "name": "python3"
  },
  "language_info": {
   "codemirror_mode": {
    "name": "ipython",
    "version": 3
   },
   "file_extension": ".py",
   "mimetype": "text/x-python",
   "name": "python",
   "nbconvert_exporter": "python",
   "pygments_lexer": "ipython3",
   "version": "3.7.3"
  }
 },
 "nbformat": 4,
 "nbformat_minor": 5
}
