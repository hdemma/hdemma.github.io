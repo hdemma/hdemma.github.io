{
  "nbformat": 4,
  "nbformat_minor": 0,
  "metadata": {
    "kernelspec": {
      "display_name": "Python 3",
      "language": "python",
      "name": "python3"
    },
    "language_info": {
      "codemirror_mode": {
        "name": "ipython",
        "version": 3
      },
      "file_extension": ".py",
      "mimetype": "text/x-python",
      "name": "python",
      "nbconvert_exporter": "python",
      "pygments_lexer": "ipython3",
      "version": "3.7.1"
    },
    "nteract": {
      "version": "0.22.4"
    },
    "colab": {
      "name": "DieselBus_Model.ipynb",
      "provenance": [],
      "include_colab_link": true
    }
  },
  "cells": [
    {
      "cell_type": "markdown",
      "metadata": {
        "id": "view-in-github",
        "colab_type": "text"
      },
      "source": [
        "<a href=\"https://colab.research.google.com/github/hdemma/hdemma.github.io/blob/master/Micro_Prediction_Models/DieselBusModel/DieselBus_Model.ipynb\" target=\"_parent\"><img src=\"https://colab.research.google.com/assets/colab-badge.svg\" alt=\"Open In Colab\"/></a>"
      ]
    },
    {
      "cell_type": "code",
      "metadata": {
        "id": "tKZx4tX0KVDV",
        "colab_type": "code",
        "colab": {}
      },
      "source": [
        "# Mount Google Drive\n",
        "from google.colab import drive # import drive from google colab\n",
        "\n",
        "ROOT = \"/content/drive\"     # default location for the drive\n",
        "print(ROOT)                 # print content of ROOT (Optional)\n",
        "\n",
        "drive.mount(ROOT)           # we mount the google drive at /content/drive"
      ],
      "execution_count": 0,
      "outputs": []
    },
    {
      "cell_type": "code",
      "metadata": {
        "id": "NG3feAdZKUUQ",
        "colab_type": "code",
        "outputId": "f11f2ff3-b00e-4e0c-fb33-928e107ea402",
        "colab": {}
      },
      "source": [
        "# scipy\n",
        "import scipy\n",
        "print('scipy: %s' % scipy.__version__)\n",
        "# numpy\n",
        "import numpy\n",
        "print('numpy: %s' % numpy.__version__)\n",
        "# matplotlib\n",
        "import matplotlib\n",
        "print('matplotlib: %s' % matplotlib.__version__)\n",
        "# pandas\n",
        "import pandas\n",
        "print('pandas: %s' % pandas.__version__)\n",
        "# statsmodels\n",
        "import statsmodels\n",
        "print('statsmodels: %s' % statsmodels.__version__)\n",
        "# scikit-learn\n",
        "import sklearn\n",
        "print('sklearn: %s' % sklearn.__version__)\n",
        "# theano\n",
        "import theano\n",
        "print('theano: %s' % theano.__version__)\n",
        "# tensorflow\n",
        "import tensorflow\n",
        "print('tensorflow: %s' % tensorflow.__version__)\n",
        "# keras\n",
        "import keras\n",
        "print('keras: %s' % keras.__version__)"
      ],
      "execution_count": 0,
      "outputs": [
        {
          "output_type": "stream",
          "text": [
            "scipy: 1.4.1\n",
            "numpy: 1.18.1\n",
            "matplotlib: 3.2.1\n",
            "pandas: 1.0.3\n",
            "statsmodels: 0.11.1\n",
            "sklearn: 0.22.1\n",
            "theano: 1.0.4\n"
          ],
          "name": "stdout"
        },
        {
          "output_type": "stream",
          "text": [
            "/Users/eason/anaconda3/lib/python3.7/site-packages/tensorflow/python/framework/dtypes.py:526: FutureWarning: Passing (type, 1) or '1type' as a synonym of type is deprecated; in a future version of numpy, it will be understood as (type, (1,)) / '(1,)type'.\n",
            "  _np_qint8 = np.dtype([(\"qint8\", np.int8, 1)])\n",
            "/Users/eason/anaconda3/lib/python3.7/site-packages/tensorflow/python/framework/dtypes.py:527: FutureWarning: Passing (type, 1) or '1type' as a synonym of type is deprecated; in a future version of numpy, it will be understood as (type, (1,)) / '(1,)type'.\n",
            "  _np_quint8 = np.dtype([(\"quint8\", np.uint8, 1)])\n",
            "/Users/eason/anaconda3/lib/python3.7/site-packages/tensorflow/python/framework/dtypes.py:528: FutureWarning: Passing (type, 1) or '1type' as a synonym of type is deprecated; in a future version of numpy, it will be understood as (type, (1,)) / '(1,)type'.\n",
            "  _np_qint16 = np.dtype([(\"qint16\", np.int16, 1)])\n",
            "/Users/eason/anaconda3/lib/python3.7/site-packages/tensorflow/python/framework/dtypes.py:529: FutureWarning: Passing (type, 1) or '1type' as a synonym of type is deprecated; in a future version of numpy, it will be understood as (type, (1,)) / '(1,)type'.\n",
            "  _np_quint16 = np.dtype([(\"quint16\", np.uint16, 1)])\n",
            "/Users/eason/anaconda3/lib/python3.7/site-packages/tensorflow/python/framework/dtypes.py:530: FutureWarning: Passing (type, 1) or '1type' as a synonym of type is deprecated; in a future version of numpy, it will be understood as (type, (1,)) / '(1,)type'.\n",
            "  _np_qint32 = np.dtype([(\"qint32\", np.int32, 1)])\n",
            "/Users/eason/anaconda3/lib/python3.7/site-packages/tensorflow/python/framework/dtypes.py:535: FutureWarning: Passing (type, 1) or '1type' as a synonym of type is deprecated; in a future version of numpy, it will be understood as (type, (1,)) / '(1,)type'.\n",
            "  np_resource = np.dtype([(\"resource\", np.ubyte, 1)])\n"
          ],
          "name": "stderr"
        },
        {
          "output_type": "stream",
          "text": [
            "tensorflow: 1.13.1\n",
            "keras: 2.3.1\n"
          ],
          "name": "stdout"
        },
        {
          "output_type": "stream",
          "text": [
            "Using TensorFlow backend.\n"
          ],
          "name": "stderr"
        }
      ]
    },
    {
      "cell_type": "code",
      "metadata": {
        "id": "MaD52k1OKUUV",
        "colab_type": "code",
        "colab": {}
      },
      "source": [
        "import numpy as np\n",
        "from keras.models import Sequential\n",
        "from keras.layers import Dense\n",
        "import pandas as pd\n",
        "import math\n",
        "from matplotlib import pyplot"
      ],
      "execution_count": 0,
      "outputs": []
    },
    {
      "cell_type": "markdown",
      "metadata": {
        "id": "85HOO6ZbKUUZ",
        "colab_type": "text"
      },
      "source": [
        "# Read Data"
      ]
    },
    {
      "cell_type": "code",
      "metadata": {
        "id": "pG3yE3NAKUUa",
        "colab_type": "code",
        "outputId": "159d6b12-3cd0-4988-b200-870e0d57bd66",
        "colab": {}
      },
      "source": [
        "df = pd.read_excel('Gillig139_2020-01-01-0000_2020-02-01-0000.xlsm', index_col=False)\n",
        "print(len(df))\n",
        "df.columns"
      ],
      "execution_count": 0,
      "outputs": [
        {
          "output_type": "stream",
          "text": [
            "1048575\n"
          ],
          "name": "stdout"
        },
        {
          "output_type": "execute_result",
          "data": {
            "text/plain": [
              "Index(['Unix Timestamp [ms]', 'Time [US/Eastern]',\n",
              "       'Analysis - fuel - Fuel used [gal]',\n",
              "       'Analysis - fuel - Fuel used driving [gal]',\n",
              "       'Analysis - fuel - Fuel used idling [gal]',\n",
              "       'Vehicle - Acceleratorpedal Position [%]',\n",
              "       'Vehicle - Ambient Air Temperature [¬∞F]',\n",
              "       'Engine - Engine Fuel Rate [gal/h]', 'Engine - Engine Speed [rpm]',\n",
              "       'Vehicle - Wheel Based Vehicle Speed [mi/h]', 'GPS - Altitude [m]',\n",
              "       'GPS - GPS position Latitude', 'GPS - GPS position Longitude',\n",
              "       'GPS - GPS speed [mi/h]'],\n",
              "      dtype='object')"
            ]
          },
          "metadata": {
            "tags": []
          },
          "execution_count": 3
        }
      ]
    },
    {
      "cell_type": "markdown",
      "metadata": {
        "id": "bVW-HkBSKUUc",
        "colab_type": "text"
      },
      "source": [
        "# Linear Intrepolate Empty Entries"
      ]
    },
    {
      "cell_type": "code",
      "metadata": {
        "id": "Jq22E0fJKUUd",
        "colab_type": "code",
        "outputId": "4ec781c4-6a04-4a11-f934-81e73ba42e0e",
        "colab": {}
      },
      "source": [
        "df.columns =['Timestamp', 'Time', 'FuelUsed', 'FuelDriving', 'FuelIdling', 'AccP', 'Temp', 'FuelRate', 'RPM', 'Speed',\n",
        "            'Alt', 'Lat', 'Long', 'SpeedGPS']\n",
        "AccP = df['AccP']\n",
        "#print(AccP)\n",
        "AccP = AccP.interpolate()\n",
        "#print(AccP)\n",
        "df['AccP']=AccP\n",
        "\n",
        "FuelRate = df['FuelRate']\n",
        "#print(FuelRate)\n",
        "FuelRate = FuelRate.interpolate()\n",
        "#print(FuelRate)\n",
        "df['FuelRate'] = FuelRate\n",
        "\n",
        "RPM = df['RPM']\n",
        "#print(RPM)\n",
        "RPM = RPM.interpolate()\n",
        "#print(RPM)\n",
        "df['RPM'] = RPM\n",
        "\n",
        "Speed = df['Speed']\n",
        "#print(Speed)\n",
        "Speed = Speed.interpolate()\n",
        "#print(Speed)\n",
        "df['Speed'] = Speed\n",
        "\n",
        "df1 = df[['AccP', 'FuelRate', 'RPM', 'Speed']]\n",
        "print(len(df1))\n",
        "df1=df1.dropna()\n",
        "print(len(df1))\n",
        "print(df1.head(3))"
      ],
      "execution_count": 0,
      "outputs": [
        {
          "output_type": "stream",
          "text": [
            "1048575\n",
            "1046576\n",
            "          AccP  FuelRate       RPM     Speed\n",
            "1999  0.005458    1.9680  1000.325  0.000485\n",
            "2000  0.008188    1.9745  1000.225  0.000969\n",
            "2001  0.010917    1.9810  1000.125  0.001454\n"
          ],
          "name": "stdout"
        }
      ]
    },
    {
      "cell_type": "markdown",
      "metadata": {
        "id": "1fGUegmKKUUf",
        "colab_type": "text"
      },
      "source": [
        "# Split Train and Test Datasets"
      ]
    },
    {
      "cell_type": "code",
      "metadata": {
        "id": "h0beuRlvKUUg",
        "colab_type": "code",
        "colab": {}
      },
      "source": [
        "df1['Speed2'] = df1['Speed']**2\n",
        "df1['Speed3'] = df1['Speed']**3\n",
        "\n",
        "train = df1.sample(n=math.floor(0.8*df1.shape[0]))\n",
        "test = df1.sample(n=math.ceil(0.2*df1.shape[0]))"
      ],
      "execution_count": 0,
      "outputs": []
    },
    {
      "cell_type": "markdown",
      "metadata": {
        "id": "N8y3aGXoKUUh",
        "colab_type": "text"
      },
      "source": [
        "# Establish ANN model and train"
      ]
    },
    {
      "cell_type": "code",
      "metadata": {
        "id": "lkx6zbotKUUh",
        "colab_type": "code",
        "outputId": "707c2d4f-9736-456e-82cd-06f31575f60e",
        "colab": {}
      },
      "source": [
        "Y_train = train['FuelRate']\n",
        "X_train = train[['AccP','Speed','RPM','Speed2','Speed3']]\n",
        "\n",
        "Y_test = test['FuelRate']\n",
        "X_test = test[['AccP','Speed','RPM','Speed2','Speed3']]\n",
        "\n",
        "model = Sequential()\n",
        "model.add(Dense(10,kernel_initializer='normal', input_dim=5, activation ='relu'))\n",
        "model.add(Dense(5, kernel_initializer='normal', activation ='relu'))\n",
        "model.add(Dense(3, kernel_initializer='normal', activation ='relu'))\n",
        "model.add(Dense(1,kernel_initializer='normal', activation ='linear'))\n",
        "\n",
        "model.compile(loss='mean_absolute_error', optimizer='adam')\n",
        "\n",
        "history = model.fit(X_train, Y_train, validation_data=(X_test, Y_test), epochs=100, batch_size=256, verbose = 0)\n",
        "pyplot.plot(history.history['loss'], label='train')\n",
        "pyplot.plot(history.history['val_loss'], label='test')\n",
        "pyplot.legend()\n",
        "pyplot.show()"
      ],
      "execution_count": 0,
      "outputs": [
        {
          "output_type": "display_data",
          "data": {
            "image/png": "[encoded data removed]",
            "text/plain": [
              "<Figure size 432x288 with 1 Axes>"
            ]
          },
          "metadata": {
            "tags": [],
            "needs_background": "light"
          }
        }
      ]
    },
    {
      "cell_type": "markdown",
      "metadata": {
        "id": "hGAdLBKhKUUj",
        "colab_type": "text"
      },
      "source": [
        "# Make predictions and plot against ground truth"
      ]
    },
    {
      "cell_type": "code",
      "metadata": {
        "id": "L-2T8YgYKUUj",
        "colab_type": "code",
        "outputId": "1a05e7de-9c05-49c5-829c-79e8a49f0f35",
        "colab": {}
      },
      "source": [
        "pre = model.predict(X_test)\n",
        "abline_x = [-1, 19]\n",
        "abline_y = [-1, 19]\n",
        "pyplot.scatter(Y_test,pre)\n",
        "pyplot.plot(abline_x,abline_y)\n",
        "pyplot.show()"
      ],
      "execution_count": 0,
      "outputs": [
        {
          "output_type": "display_data",
          "data": {
            "image/png": "[encoded data removed]",
            "text/plain": [
              "<Figure size 432x288 with 1 Axes>"
            ]
          },
          "metadata": {
            "tags": [],
            "needs_background": "light"
          }
        }
      ]
    },
    {
      "cell_type": "markdown",
      "metadata": {
        "id": "zwOUCSyGKUUk",
        "colab_type": "text"
      },
      "source": [
        "# Distributions of errors and ground truth values"
      ]
    },
    {
      "cell_type": "code",
      "metadata": {
        "scrolled": true,
        "id": "YEpKMSNVKUUl",
        "colab_type": "code",
        "colab": {}
      },
      "source": [
        "difference = pre\n",
        "for i in range(pre.shape[0]):\n",
        "    difference[i] = Y_test.values[i] - pre[i]"
      ],
      "execution_count": 0,
      "outputs": []
    },
    {
      "cell_type": "code",
      "metadata": {
        "id": "UTZLyQCRKUUm",
        "colab_type": "code",
        "colab": {}
      },
      "source": [
        "dff = pd.DataFrame(data=difference, index=None, columns=None)"
      ],
      "execution_count": 0,
      "outputs": []
    },
    {
      "cell_type": "markdown",
      "metadata": {
        "id": "coeXBD6ZKUUn",
        "colab_type": "text"
      },
      "source": [
        "## Errors"
      ]
    },
    {
      "cell_type": "code",
      "metadata": {
        "id": "sPGk7LA-KUUn",
        "colab_type": "code",
        "outputId": "a14164ca-4205-4293-b381-f27cb833d7b4",
        "colab": {}
      },
      "source": [
        "dff.plot.hist(grid=True, bins=26, rwidth=0.9,\n",
        "                   color='#607c8e')"
      ],
      "execution_count": 0,
      "outputs": [
        {
          "output_type": "execute_result",
          "data": {
            "text/plain": [
              "<matplotlib.axes._subplots.AxesSubplot at 0x1a505fbdd8>"
            ]
          },
          "metadata": {
            "tags": []
          },
          "execution_count": 12
        },
        {
          "output_type": "display_data",
          "data": {
            "image/png": "[encoded data removed]",
            "text/plain": [
              "<Figure size 432x288 with 1 Axes>"
            ]
          },
          "metadata": {
            "tags": [],
            "needs_background": "light"
          }
        }
      ]
    },
    {
      "cell_type": "markdown",
      "metadata": {
        "id": "3CWIWxbgKUUp",
        "colab_type": "text"
      },
      "source": [
        "## Ground truth values"
      ]
    },
    {
      "cell_type": "code",
      "metadata": {
        "id": "-K4swW2BKUUp",
        "colab_type": "code",
        "outputId": "a6f9a1eb-b0e4-433e-aa0b-6d48e8d2a44d",
        "colab": {}
      },
      "source": [
        "Y_test.plot.hist(grid=True, bins=26, rwidth=0.9,\n",
        "                   color='#607c8e')"
      ],
      "execution_count": 0,
      "outputs": [
        {
          "output_type": "execute_result",
          "data": {
            "text/plain": [
              "<matplotlib.axes._subplots.AxesSubplot at 0x1a4f2fe748>"
            ]
          },
          "metadata": {
            "tags": []
          },
          "execution_count": 13
        },
        {
          "output_type": "display_data",
          "data": {
            "image/png": "[encoded data removed]",
            "text/plain": [
              "<Figure size 432x288 with 1 Axes>"
            ]
          },
          "metadata": {
            "tags": [],
            "needs_background": "light"
          }
        }
      ]
    },
    {
      "cell_type": "code",
      "metadata": {
        "id": "ohlztsHoKUUq",
        "colab_type": "code",
        "colab": {}
      },
      "source": [
        ""
      ],
      "execution_count": 0,
      "outputs": []
    }
  ]
}