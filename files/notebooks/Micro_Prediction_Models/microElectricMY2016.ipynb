{
 "cells": [
  {
   "cell_type": "code",
   "execution_count": 17,
   "id": "pacific-framing",
   "metadata": {},
   "outputs": [],
   "source": [
    "import scipy\n",
    "import statsmodels\n",
    "import sklearn\n",
    "import theano\n",
    "import tensorflow\n",
    "import keras\n",
    "\n",
    "import numpy as np\n",
    "from keras.models import Sequential\n",
    "from keras.layers import Dense\n",
    "import pandas as pd\n",
    "import math\n",
    "import matplotlib.pyplot as plt"
   ]
  },
  {
   "cell_type": "code",
   "execution_count": 2,
   "id": "detailed-death",
   "metadata": {},
   "outputs": [
    {
     "data": {
      "text/plain": [
       "Index(['Unix Timestamp [ms]', 'Time ISO', 'Time [US/Eastern]', 'Name',\n",
       "       'Analysis - other - Acceleration [ft/s?]',\n",
       "       'Analysis - other - Distance driven [mi]',\n",
       "       'Analysis - other - Power [kW]', 'Dashboard - Speed [mi/h]',\n",
       "       'Engine - RPM [RPM]', 'GPS - Altitude [m]',\n",
       "       'GPS - GPS position Latitude', 'GPS - GPS position Longitude'],\n",
       "      dtype='object')"
      ]
     },
     "execution_count": 2,
     "metadata": {},
     "output_type": "execute_result"
    }
   ],
   "source": [
    "#read history data used to train model\n",
    "dataset = pd.read_csv('./Data/BYD751_2021-01-06-0000_2021-01-16-0000.csv', index_col=False)\n",
    "dataset.columns"
   ]
  },
  {
   "cell_type": "code",
   "execution_count": 3,
   "id": "warming-gauge",
   "metadata": {},
   "outputs": [],
   "source": [
    "#process raw data\n",
    "dataset = dataset.interpolate()\n",
    "dataset['elevation']=0 #fix here\n",
    "dataset['elevdiff']=dataset['elevation'].diff() #ft\n",
    "dataset['elevdiff']=dataset['elevation']*0.000189394 #convert ft to mile\n",
    "dataset['distdiff']=dataset['Analysis - other - Distance driven [mi]'].diff()\n",
    "dataset['roadGrade']=dataset['elevdiff']/dataset['distdiff']\n",
    "dataset['temperature']=0 #fix here\n",
    "dataset['humidity']=0 #fix here\n",
    "dataset['Speed']=dataset['Dashboard - Speed [mi/h]'] \n",
    "dataset['Speed2'] = dataset['Speed'].pow(2)\n",
    "dataset['Speed3'] = dataset['Speed'].pow(3)\n",
    "dataset['Acc'] = dataset['Analysis - other - Acceleration [ft/s?]']\n",
    "dataset['AccSpeed'] = dataset['Acc'] * dataset['Speed']\n",
    "dataset['Pow'] = dataset['Analysis - other - Power [kW]']\n",
    "dataset['PowIndex'] = 1\n",
    "neg_pow = dataset['Pow'] < 0\n",
    "dataset.loc[neg_pow,'PowIndex'] = 0\n",
    "dataset=dataset.dropna()"
   ]
  },
  {
   "cell_type": "code",
   "execution_count": 4,
   "id": "refined-database",
   "metadata": {},
   "outputs": [
    {
     "name": "stdout",
     "output_type": "stream",
     "text": [
      "# of acceleration samples for training:  8051\n",
      "# of decelearation samples for training:  7520\n",
      "# of cruizing samples for training:  56531\n",
      "# of acceleration samples for testing:  1983\n",
      "# of decelearation samples for testing:  1862\n",
      "# of cruizing samples for testing:  14181\n"
     ]
    }
   ],
   "source": [
    "#Split train and test data and partition data by vehicle status\n",
    "train = dataset.sample(n=math.floor(0.8*dataset.shape[0]))\n",
    "test = dataset.sample(n=math.ceil(0.2*dataset.shape[0]))\n",
    "\n",
    "train_accInd = train['Acc'] > 2\n",
    "train_decInd = train['Acc'] < -2\n",
    "train_crzInd = (train['Acc'] <= 2) & (train['Acc'] >= -2)\n",
    "train_acc = train[train_accInd]\n",
    "train_dec = train[train_decInd]\n",
    "train_crz = train[train_crzInd]\n",
    "print(\"# of acceleration samples for training: \", train_acc.shape[0])\n",
    "print(\"# of decelearation samples for training: \", train_dec.shape[0])\n",
    "print(\"# of cruizing samples for training: \", train_crz.shape[0])\n",
    "\n",
    "test_accInd = test['Acc'] > 2\n",
    "test_decInd = test['Acc'] < -2\n",
    "test_crzInd = (test['Acc'] <= 2) & (test['Acc'] >= -2)\n",
    "test_acc = test[test_accInd]\n",
    "test_dec = test[test_decInd]\n",
    "test_crz = test[test_crzInd]\n",
    "print(\"# of acceleration samples for testing: \", test_acc.shape[0])\n",
    "print(\"# of decelearation samples for testing: \", test_dec.shape[0])\n",
    "print(\"# of cruizing samples for testing: \", test_crz.shape[0])"
   ]
  },
  {
   "cell_type": "code",
   "execution_count": 12,
   "id": "german-commissioner",
   "metadata": {},
   "outputs": [
    {
     "data": {
      "image/png": "[encoded data removed]",
      "text/plain": [
       "<Figure size 432x288 with 1 Axes>"
      ]
     },
     "metadata": {
      "needs_background": "light"
     },
     "output_type": "display_data"
    }
   ],
   "source": [
    "#Construct and compile models, using Mean Absolute Error for regression prediction models, Cross-entropy for power sign prediction model\n",
    "#Fit each model seperately    \n",
    "### Model for accelerating status\n",
    "Y_train_acc = train_acc['Pow']\n",
    "X_train_acc = train_acc[['Acc','Speed','Speed2','Speed3','AccSpeed']]\n",
    "\n",
    "Y_test_acc = test_acc['Pow']\n",
    "X_test_acc = test_acc[['Acc','Speed','Speed2','Speed3','AccSpeed']]\n",
    "\n",
    "model_acc = Sequential()\n",
    "model_acc.add(Dense(10,kernel_initializer='normal', input_dim=5, activation ='relu'))\n",
    "model_acc.add(Dense(5, kernel_initializer='normal', activation ='relu'))\n",
    "model_acc.add(Dense(3, kernel_initializer='normal', activation ='relu'))\n",
    "model_acc.add(Dense(1,kernel_initializer='normal', activation ='linear'))\n",
    "\n",
    "model_acc.compile(loss='mean_absolute_error', optimizer='adam')\n",
    "\n",
    "history = model_acc.fit(X_train_acc, Y_train_acc, validation_data=(X_test_acc, Y_test_acc), epochs=50, batch_size=100, verbose = 0)\n",
    "plt.plot(history.history['loss'], label='train')\n",
    "plt.plot(history.history['val_loss'], label='test')\n",
    "plt.legend()\n",
    "plt.show()\n"
   ]
  },
  {
   "cell_type": "code",
   "execution_count": 6,
   "id": "aerial-migration",
   "metadata": {},
   "outputs": [
    {
     "data": {
      "image/png": "[encoded data removed]",
      "text/plain": [
       "<Figure size 432x288 with 1 Axes>"
      ]
     },
     "metadata": {
      "needs_background": "light"
     },
     "output_type": "display_data"
    }
   ],
   "source": [
    "### Model for decelerating status\n",
    "Y_train_dec = train_dec['Pow']\n",
    "X_train_dec = train_dec[['Acc','Speed','Speed2','Speed3','AccSpeed']]\n",
    "\n",
    "Y_test_dec = test_dec['Pow']\n",
    "X_test_dec = test_dec[['Acc','Speed','Speed2','Speed3','AccSpeed']]\n",
    "\n",
    "model_dec = Sequential()\n",
    "model_dec.add(Dense(10,kernel_initializer='normal', input_dim=5, activation ='relu'))\n",
    "model_dec.add(Dense(5, kernel_initializer='normal', activation ='relu'))\n",
    "model_dec.add(Dense(3, kernel_initializer='normal', activation ='relu'))\n",
    "model_dec.add(Dense(1,kernel_initializer='normal', activation ='linear'))\n",
    "\n",
    "model_dec.compile(loss='mean_absolute_error', optimizer='adam')\n",
    "\n",
    "history = model_dec.fit(X_train_dec, Y_train_dec, validation_data=(X_test_dec, Y_test_dec), epochs=50, batch_size=100, verbose = 0)\n",
    "plt.plot(history.history['loss'], label='train')\n",
    "plt.plot(history.history['val_loss'], label='test')\n",
    "plt.legend()\n",
    "plt.show()"
   ]
  },
  {
   "cell_type": "code",
   "execution_count": 7,
   "id": "written-turtle",
   "metadata": {},
   "outputs": [
    {
     "data": {
      "image/png": "[encoded data removed]",
      "text/plain": [
       "<Figure size 432x288 with 1 Axes>"
      ]
     },
     "metadata": {
      "needs_background": "light"
     },
     "output_type": "display_data"
    }
   ],
   "source": [
    "### Cruizing model\n",
    "Y_train_crz = train_crz['Pow']\n",
    "X_train_crz = train_crz[['Acc','Speed','Speed2','Speed3','AccSpeed']]\n",
    "\n",
    "Y_test_crz = test_crz['Pow']\n",
    "X_test_crz = test_crz[['Acc','Speed','Speed2','Speed3','AccSpeed']]\n",
    "\n",
    "model_crz = Sequential()\n",
    "model_crz.add(Dense(10,kernel_initializer='normal', input_dim=5, activation ='relu'))\n",
    "model_crz.add(Dense(5, kernel_initializer='normal', activation ='relu'))\n",
    "model_crz.add(Dense(3, kernel_initializer='normal', activation ='relu'))\n",
    "model_crz.add(Dense(1,kernel_initializer='normal', activation ='linear'))\n",
    "\n",
    "model_crz.compile(loss='mean_absolute_error', optimizer='adam')\n",
    "\n",
    "history = model_crz.fit(X_train_crz, Y_train_crz, validation_data=(X_test_crz, Y_test_crz), epochs=50, batch_size=256, verbose = 0)\n",
    "plt.plot(history.history['loss'], label='train')\n",
    "plt.plot(history.history['val_loss'], label='test')\n",
    "plt.show()"
   ]
  },
  {
   "cell_type": "code",
   "execution_count": 13,
   "id": "inner-newfoundland",
   "metadata": {},
   "outputs": [
    {
     "name": "stdout",
     "output_type": "stream",
     "text": [
      "Index(['Acc', 'Speed', 'Speed2', 'Speed3', 'AccSpeed'], dtype='object')\n"
     ]
    }
   ],
   "source": [
    "#read trajectory data that needs prediction\n",
    "trip = pd.read_csv(\"./Route1_trip151720020_061000.csv\")\n",
    "trip1=trip[['speed','acceleration']]\n",
    "input4pre=pd.DataFrame()  \n",
    "input4pre['Acc']=trip1['acceleration']*(0.001)*3.28\n",
    "#ft/s2\n",
    "input4pre['Speed']=trip1['speed']*(0.01*3.6) *0.621371\n",
    "#mph\n",
    "input4pre['Speed2'] = input4pre['Speed'].pow(2)\n",
    "input4pre['Speed3'] = input4pre['Speed'].pow(3)\n",
    "input4pre['AccSpeed'] = input4pre['Acc'] * input4pre['Speed']\n",
    "input4pre=input4pre[['Acc','Speed','Speed2','Speed3','AccSpeed']]\n",
    "print(input4pre.columns)"
   ]
  },
  {
   "cell_type": "code",
   "execution_count": 14,
   "id": "rising-initial",
   "metadata": {},
   "outputs": [],
   "source": [
    "#partition data\n",
    "pre_accIdx = input4pre['Acc'] > 2\n",
    "pre_decIdx = input4pre['Acc'] < -2\n",
    "pre_crzIdx = (input4pre['Acc'] <= 2) & (input4pre['Acc'] >= -2)\n",
    "pre_acc = input4pre[pre_accIdx]\n",
    "pre_dec = input4pre[pre_decIdx]\n",
    "pre_crz = input4pre[pre_crzIdx]"
   ]
  },
  {
   "cell_type": "code",
   "execution_count": 15,
   "id": "thousand-edmonton",
   "metadata": {},
   "outputs": [
    {
     "name": "stdout",
     "output_type": "stream",
     "text": [
      "       time   time_ms  speed  acceleration                    vehicle_ref  \\\n",
      "0  06:10:00  22200000      0             0  Route1_trip151720020_06:10:00   \n",
      "1  06:10:01  22201000      0             0  Route1_trip151720020_06:10:00   \n",
      "2  06:10:02  22202000      0             0  Route1_trip151720020_06:10:00   \n",
      "3  06:10:03  22203000      0             0  Route1_trip151720020_06:10:00   \n",
      "4  06:10:04  22204000      0             0  Route1_trip151720020_06:10:00   \n",
      "\n",
      "   actorConfig_id actorConfig_emissionClass actorConfig_fuel actorConfig_ref  \\\n",
      "0               7                     Euro4         Gasoline      Gillig_101   \n",
      "1               7                     Euro4         Gasoline      Gillig_101   \n",
      "2               7                     Euro4         Gasoline      Gillig_101   \n",
      "3               7                     Euro4         Gasoline      Gillig_101   \n",
      "4               7                     Euro4         Gasoline      Gillig_101   \n",
      "\n",
      "  actorConfig_vehicleClass     Power  \n",
      "0                Passenger  3.101885  \n",
      "1                Passenger  3.101885  \n",
      "2                Passenger  3.101885  \n",
      "3                Passenger  3.101885  \n",
      "4                Passenger  3.101885  \n"
     ]
    },
    {
     "name": "stderr",
     "output_type": "stream",
     "text": [
      "C:\\ProgramData\\Anaconda3\\lib\\site-packages\\ipykernel_launcher.py:15: SettingWithCopyWarning: \n",
      "A value is trying to be set on a copy of a slice from a DataFrame\n",
      "\n",
      "See the caveats in the documentation: https://pandas.pydata.org/pandas-docs/stable/user_guide/indexing.html#returning-a-view-versus-a-copy\n",
      "  from ipykernel import kernelapp as app\n"
     ]
    }
   ],
   "source": [
    "#prediction\n",
    "pow_acc = model_acc.predict(pre_acc)\n",
    "pow_dec = model_dec.predict(pre_dec)\n",
    "pow_crz = model_crz.predict(pre_crz)\n",
    "trip_acc = trip[pre_accIdx]\n",
    "trip_dec = trip[pre_decIdx]\n",
    "trip_crz = trip[pre_crzIdx]\n",
    "trip_acc = trip_acc.reset_index(drop=True)\n",
    "trip_dec = trip_dec.reset_index(drop=True)\n",
    "trip_crz = trip_crz.reset_index(drop=True)\n",
    "trip_accP = pd.concat([trip_acc,pd.DataFrame(pow_acc,columns=['Power'])], axis=1)\n",
    "trip_decP = pd.concat([trip_dec,pd.DataFrame(pow_dec,columns=['Power'])], axis=1)\n",
    "trip_crzP = pd.concat([trip_crz,pd.DataFrame(pow_crz,columns=['Power'])], axis=1)\n",
    "tripfinal = pd.concat([trip_accP,trip_decP,trip_crzP])\n",
    "tripfinal.Power[tripfinal.Power < -200] = -200\n",
    "tripfinal = tripfinal.sort_values(by=['time_ms'])\n",
    "tripfinal = tripfinal.reset_index(drop=True)\n",
    "print(tripfinal.head())"
   ]
  },
  {
   "cell_type": "code",
   "execution_count": 16,
   "id": "departmental-apartment",
   "metadata": {},
   "outputs": [
    {
     "data": {
      "image/png": "[encoded data removed]",
      "text/plain": [
       "<Figure size 432x288 with 1 Axes>"
      ]
     },
     "metadata": {
      "needs_background": "light"
     },
     "output_type": "display_data"
    }
   ],
   "source": [
    "#plot results\n",
    "fig, ax1 = plt.subplots(figsize=(6, 4))\n",
    "ax1.plot(tripfinal.index, tripfinal.Power, color='blue', linewidth=1)\n",
    "ax1.set_xticks(tripfinal.index[::360])\n",
    "ax1.set_xticklabels(tripfinal.time[::360], rotation=45)\n",
    "plt.tight_layout(pad=4)\n",
    "plt.subplots_adjust(bottom=0.15)\n",
    "plt.xlabel(\"Time\",fontsize = 14)\n",
    "plt.ylabel(\"Estimated power (kW)\",fontsize = 14)\n",
    "plt.show()"
   ]
  },
  {
   "cell_type": "code",
   "execution_count": null,
   "id": "chemical-lindsay",
   "metadata": {},
   "outputs": [],
   "source": []
  }
 ],
 "metadata": {
  "kernelspec": {
   "display_name": "Python 3",
   "language": "python",
   "name": "python3"
  },
  "language_info": {
   "codemirror_mode": {
    "name": "ipython",
    "version": 3
   },
   "file_extension": ".py",
   "mimetype": "text/x-python",
   "name": "python",
   "nbconvert_exporter": "python",
   "pygments_lexer": "ipython3",
   "version": "3.7.3"
  }
 },
 "nbformat": 4,
 "nbformat_minor": 5
}
