{
  "nbformat": 4,
  "nbformat_minor": 0,
  "metadata": {
    "kernelspec": {
      "display_name": "Python 3",
      "language": "python",
      "name": "python3"
    },
    "language_info": {
      "codemirror_mode": {
        "name": "ipython",
        "version": 3
      },
      "file_extension": ".py",
      "mimetype": "text/x-python",
      "name": "python",
      "nbconvert_exporter": "python",
      "pygments_lexer": "ipython3",
      "version": "3.7.1"
    },
    "colab": {
      "name": "Micro_EBUS_model.ipynb",
      "provenance": [],
      "toc_visible": true,
      "include_colab_link": true
    }
  },
  "cells": [
    {
      "cell_type": "markdown",
      "metadata": {
        "id": "view-in-github",
        "colab_type": "text"
      },
      "source": [
        "<a href=\"https://colab.research.google.com/github/hdemma/hdemma.github.io/blob/master/Micro_Prediction_Models/EBusModel/Micro_EBUS_model.ipynb\" target=\"_parent\"><img src=\"https://colab.research.google.com/assets/colab-badge.svg\" alt=\"Open In Colab\"/></a>"
      ]
    },
    {
      "cell_type": "code",
      "metadata": {
        "id": "wsUKj4XO0viD",
        "colab_type": "code",
        "outputId": "a91a4e37-b8c6-4604-fdf0-1d7bae6c9b11",
        "colab": {
          "base_uri": "https://localhost:8080/",
          "height": 139
        }
      },
      "source": [
        "# Mount Google Drive\n",
        "from google.colab import drive # import drive from google colab\n",
        "\n",
        "ROOT = \"/content/drive\"     # default location for the drive\n",
        "print(ROOT)                 # print content of ROOT (Optional)\n",
        "\n",
        "drive.mount(ROOT)           # we mount the google drive at /content/drive"
      ],
      "execution_count": 0,
      "outputs": [
        {
          "output_type": "stream",
          "text": [
            "/content/drive\n",
            "Go to this URL in a browser: https://accounts.google.com/o/oauth2/auth?client_id=947318989803-6bn6qk8qdgf4n4g3pfee6491hc0brc4i.apps.googleusercontent.com&redirect_uri=urn%3aietf%3awg%3aoauth%3a2.0%3aoob&response_type=code&scope=email%20https%3a%2f%2fwww.googleapis.com%2fauth%2fdocs.test%20https%3a%2f%2fwww.googleapis.com%2fauth%2fdrive%20https%3a%2f%2fwww.googleapis.com%2fauth%2fdrive.photos.readonly%20https%3a%2f%2fwww.googleapis.com%2fauth%2fpeopleapi.readonly\n",
            "\n",
            "Enter your authorization code:\n",
            "··········\n",
            "Mounted at /content/drive\n"
          ],
          "name": "stdout"
        }
      ]
    },
    {
      "cell_type": "markdown",
      "metadata": {
        "id": "JOhiK90v0twI",
        "colab_type": "text"
      },
      "source": [
        "# Prior check of packages and versions"
      ]
    },
    {
      "cell_type": "code",
      "metadata": {
        "id": "UtzkYejZ0twJ",
        "colab_type": "code",
        "outputId": "648cfbc4-4aa9-4577-8954-50c83409ba82",
        "colab": {
          "base_uri": "https://localhost:8080/",
          "height": 187
        }
      },
      "source": [
        "# scipy\n",
        "import scipy\n",
        "print('scipy: %s' % scipy.__version__)\n",
        "# numpy\n",
        "import numpy\n",
        "print('numpy: %s' % numpy.__version__)\n",
        "# matplotlib\n",
        "import matplotlib\n",
        "print('matplotlib: %s' % matplotlib.__version__)\n",
        "# pandas\n",
        "import pandas\n",
        "print('pandas: %s' % pandas.__version__)\n",
        "# statsmodels\n",
        "import statsmodels\n",
        "print('statsmodels: %s' % statsmodels.__version__)\n",
        "# scikit-learn\n",
        "import sklearn\n",
        "print('sklearn: %s' % sklearn.__version__)\n",
        "# theano\n",
        "import theano\n",
        "print('theano: %s' % theano.__version__)\n",
        "# tensorflow\n",
        "import tensorflow\n",
        "print('tensorflow: %s' % tensorflow.__version__)\n",
        "# keras\n",
        "import keras\n",
        "print('keras: %s' % keras.__version__)"
      ],
      "execution_count": 0,
      "outputs": [
        {
          "output_type": "stream",
          "text": [
            "scipy: 1.4.1\n",
            "numpy: 1.18.4\n",
            "matplotlib: 3.2.1\n",
            "pandas: 1.0.3\n",
            "statsmodels: 0.10.2\n",
            "sklearn: 0.22.2.post1\n",
            "theano: 1.0.4\n",
            "tensorflow: 2.2.0\n",
            "keras: 2.3.1\n"
          ],
          "name": "stdout"
        },
        {
          "output_type": "stream",
          "text": [
            "Using TensorFlow backend.\n"
          ],
          "name": "stderr"
        }
      ]
    },
    {
      "cell_type": "markdown",
      "metadata": {
        "id": "eQlPHQDK0twS",
        "colab_type": "text"
      },
      "source": [
        "# Import required packages"
      ]
    },
    {
      "cell_type": "code",
      "metadata": {
        "id": "imhxJX6z0twU",
        "colab_type": "code",
        "colab": {}
      },
      "source": [
        "import numpy as np\n",
        "from keras.models import Sequential\n",
        "from keras.layers import Dense\n",
        "import pandas as pd\n",
        "import math\n",
        "from matplotlib import pyplot"
      ],
      "execution_count": 0,
      "outputs": []
    },
    {
      "cell_type": "markdown",
      "metadata": {
        "id": "_P2Qhi0Z0twX",
        "colab_type": "text"
      },
      "source": [
        "# Load and pre-process data\n"
      ]
    },
    {
      "cell_type": "code",
      "metadata": {
        "id": "Hx3KI4Ym0twZ",
        "colab_type": "code",
        "colab": {}
      },
      "source": [
        "dataset = pd.read_excel('Porcessed_BYD751_dataset.xlsm', index_col=False)\n",
        "#print(dataset.head(6))\n",
        "dataset['Speed2'] = dataset['Speed']**2\n",
        "dataset['Speed3'] = dataset['Speed']**2\n",
        "dataset['AccSpeed'] = dataset['Acc'] * dataset['Speed']\n",
        "dataset['PowIndex'] = 1\n",
        "neg_pow = dataset['Pow'] < 0\n",
        "dataset.loc[neg_pow,'PowIndex'] = 0\n",
        "#print(dataset.head(3))\n",
        "#print(dataset[neg_pow].head(3))"
      ],
      "execution_count": 0,
      "outputs": []
    },
    {
      "cell_type": "markdown",
      "metadata": {
        "id": "VM7tRw4N0twd",
        "colab_type": "text"
      },
      "source": [
        "## Filtering non-zero powers"
      ]
    },
    {
      "cell_type": "code",
      "metadata": {
        "id": "cqZojqru0twd",
        "colab_type": "code",
        "outputId": "43da9b20-7e67-42f6-b26f-f02caaff02a5",
        "colab": {
          "base_uri": "https://localhost:8080/",
          "height": 51
        }
      },
      "source": [
        "non_zeropow = dataset['Pow'] != 0\n",
        "print(\"Before filter, # of samples: \",dataset.shape[0])\n",
        "dataset = dataset[non_zeropow]\n",
        "print(\"After filter, # of samples: \",dataset.shape[0])"
      ],
      "execution_count": 0,
      "outputs": [
        {
          "output_type": "stream",
          "text": [
            "Before filter, # of samples:  332371\n",
            "After filter, # of samples:  332277\n"
          ],
          "name": "stdout"
        }
      ]
    },
    {
      "cell_type": "markdown",
      "metadata": {
        "id": "RLZQPJKG0twh",
        "colab_type": "text"
      },
      "source": [
        "## Reserve 20% data for testing"
      ]
    },
    {
      "cell_type": "code",
      "metadata": {
        "id": "DApbL9qI0twh",
        "colab_type": "code",
        "colab": {}
      },
      "source": [
        "train = dataset.sample(n=math.floor(0.8*dataset.shape[0]))\n",
        "test = dataset.sample(n=math.ceil(0.2*dataset.shape[0]))"
      ],
      "execution_count": 0,
      "outputs": []
    },
    {
      "cell_type": "markdown",
      "metadata": {
        "id": "QzH9Wr8W0twk",
        "colab_type": "text"
      },
      "source": [
        "## Split train and test data by vehicle status"
      ]
    },
    {
      "cell_type": "code",
      "metadata": {
        "scrolled": true,
        "id": "5ohQ5qgG0twl",
        "colab_type": "code",
        "outputId": "767e2958-becf-40a9-e4b3-a95a2c7277cc",
        "colab": {
          "base_uri": "https://localhost:8080/",
          "height": 153
        }
      },
      "source": [
        "train_accInd = train['Acc'] > 2\n",
        "train_decInd = train['Acc'] < -2\n",
        "train_crzInd = (train['Acc'] <= 2) & (train['Acc'] >= -2)\n",
        "train_acc = train[train_accInd]\n",
        "train_dec = train[train_decInd]\n",
        "train_crz = train[train_crzInd]\n",
        "print(\"# of acceleration samples for training: \", train_acc.shape[0])\n",
        "print(\"# of decelearation samples for training: \", train_dec.shape[0])\n",
        "print(\"# of cruizing samples for training: \", train_crz.shape[0])\n",
        "\n",
        "crz_pos = train_crz['Pow'] > 0\n",
        "crz_neg = train_crz['Pow'] <= 0\n",
        "train_crz_pos = train_crz[crz_pos]\n",
        "train_crz_neg = train_crz[crz_neg]\n",
        "print(\"# of cruizing samples with positive power for training: \", train_crz_pos.shape[0])\n",
        "print(\"# of cruizing samples with negative power for training: \", train_crz_neg.shape[0])\n",
        "\n",
        "train_with_Speed = train_crz['Speed'] > 0\n",
        "train_wSpeed = train_crz[train_with_Speed]\n",
        "print(\"# of cruizing samples with positive speed for training: \", train_wSpeed.shape[0])\n",
        "\n",
        "train_withSpeed_pos = train_wSpeed['Pow'] > 0\n",
        "train_withSpeed_neg = train_wSpeed['Pow'] <= 0\n",
        "train_wSpeed_pos = train_wSpeed[train_withSpeed_pos]\n",
        "train_wSpeed_neg = train_wSpeed[train_withSpeed_neg]\n",
        "print(\"# of cruizing samples with positive power and positive speed for training: \", train_wSpeed_pos.shape[0])\n",
        "print(\"# of cruizing samples with negative power and positive speed for training: \", train_wSpeed_neg.shape[0])"
      ],
      "execution_count": 0,
      "outputs": [
        {
          "output_type": "stream",
          "text": [
            "# of acceleration samples for training:  25650\n",
            "# of decelearation samples for training:  28192\n",
            "# of cruizing samples for training:  211979\n",
            "# of cruizing samples with positive power for training:  166946\n",
            "# of cruizing samples with negative power for training:  45033\n",
            "# of cruizing samples with positive speed for training:  208543\n",
            "# of cruizing samples with positive power and positive speed for training:  163510\n",
            "# of cruizing samples with negative power and positive speed for training:  45033\n"
          ],
          "name": "stdout"
        }
      ]
    },
    {
      "cell_type": "code",
      "metadata": {
        "id": "V1TTCbz60two",
        "colab_type": "code",
        "outputId": "9aa91397-9037-4a71-f8b3-e1f9b347f9e9",
        "colab": {
          "base_uri": "https://localhost:8080/",
          "height": 85
        }
      },
      "source": [
        "test_accInd = test['Acc'] > 2\n",
        "test_decInd = test['Acc'] < -2\n",
        "test_crzInd = (test['Acc'] <= 2) & (test['Acc'] >= -2)\n",
        "test_acc = test[test_accInd]\n",
        "test_dec = test[test_decInd]\n",
        "test_crz = test[test_crzInd]\n",
        "print(\"# of acceleration samples for testing: \", test_acc.shape[0])\n",
        "print(\"# of decelearation samples for testing: \", test_dec.shape[0])\n",
        "print(\"# of cruizing samples for testing: \", test_crz.shape[0])\n",
        "\n",
        "test_withSpeed = test_crz['Speed'] >0\n",
        "test_wSpeed = test_crz[test_withSpeed]\n",
        "print(\"# of cruizing samples with positive speed for testing: \", test_wSpeed.shape[0])"
      ],
      "execution_count": 0,
      "outputs": [
        {
          "output_type": "stream",
          "text": [
            "# of acceleration samples for testing:  6463\n",
            "# of decelearation samples for testing:  7150\n",
            "# of cruizing samples for testing:  52843\n",
            "# of cruizing samples with positive speed for testing:  51960\n"
          ],
          "name": "stdout"
        }
      ]
    },
    {
      "cell_type": "markdown",
      "metadata": {
        "id": "pj_ID9O80twr",
        "colab_type": "text"
      },
      "source": [
        "# Construct and compile models, using Mean Absolute Error for regression prediction models, Cross-entropy for power sign prediction model\n",
        "# Fit each model seperately, each with 100 epochs and batch size is 32\n",
        "## Performance vs epochs are ploted\n",
        "* ### Model for accelerating status"
      ]
    },
    {
      "cell_type": "code",
      "metadata": {
        "id": "Un8CSR2-0twr",
        "colab_type": "code",
        "colab": {}
      },
      "source": [
        "Y_train_acc = train_acc['Pow']\n",
        "X_train_acc = train_acc[['Acc','Speed','RPM','Grade','Temp','Humidity','Speed2','Speed3','AccSpeed']]\n",
        "\n",
        "Y_test_acc = test_acc['Pow']\n",
        "X_test_acc = test_acc[['Acc','Speed','RPM','Grade','Temp','Humidity','Speed2','Speed3','AccSpeed']]\n",
        "\n",
        "model_acc = Sequential()\n",
        "model_acc.add(Dense(10,kernel_initializer='normal', input_dim=9, activation ='relu'))\n",
        "model_acc.add(Dense(5, kernel_initializer='normal', activation ='relu'))\n",
        "model_acc.add(Dense(3, kernel_initializer='normal', activation ='relu'))\n",
        "model_acc.add(Dense(1,kernel_initializer='normal', activation ='linear'))\n",
        "\n",
        "model_acc.compile(loss='mean_absolute_error', optimizer='adam')\n",
        "\n",
        "history = model_acc.fit(X_train_acc, Y_train_acc, validation_data=(X_test_acc, Y_test_acc), epochs=100, batch_size=32, verbose = 0)\n",
        "pyplot.plot(history.history['loss'], label='train')\n",
        "pyplot.plot(history.history['val_loss'], label='test')\n",
        "pyplot.legend()\n",
        "pyplot.show()"
      ],
      "execution_count": 0,
      "outputs": []
    },
    {
      "cell_type": "markdown",
      "metadata": {
        "id": "ZVaOPe480twu",
        "colab_type": "text"
      },
      "source": [
        "* ### Model for decelerating status"
      ]
    },
    {
      "cell_type": "code",
      "metadata": {
        "id": "rfakzz4l0twu",
        "colab_type": "code",
        "outputId": "4071e61c-f65d-462d-ed2a-8d9aaa463c35",
        "colab": {}
      },
      "source": [
        "Y_train_dec = train_dec['Pow']\n",
        "X_train_dec = train_dec[['Acc','Speed','RPM','Grade','Temp','Humidity','Speed2','Speed3','AccSpeed']]\n",
        "\n",
        "Y_test_dec = test_dec['Pow']\n",
        "X_test_dec = test_dec[['Acc','Speed','RPM','Grade','Temp','Humidity','Speed2','Speed3','AccSpeed']]\n",
        "\n",
        "model_dec = Sequential()\n",
        "model_dec.add(Dense(10,kernel_initializer='normal', input_dim=9, activation ='relu'))\n",
        "model_dec.add(Dense(5, kernel_initializer='normal', activation ='relu'))\n",
        "model_dec.add(Dense(3, kernel_initializer='normal', activation ='relu'))\n",
        "model_dec.add(Dense(1,kernel_initializer='normal', activation ='linear'))\n",
        "\n",
        "model_dec.compile(loss='mean_absolute_error', optimizer='adam')\n",
        "\n",
        "history = model_dec.fit(X_train_dec, Y_train_dec, validation_data=(X_test_dec, Y_test_dec), epochs=100, batch_size=32, verbose = 0)\n",
        "pyplot.plot(history.history['loss'], label='train')\n",
        "pyplot.plot(history.history['val_loss'], label='test')\n",
        "pyplot.legend()\n",
        "pyplot.show()"
      ],
      "execution_count": 0,
      "outputs": [
        {
          "output_type": "display_data",
          "data": {
            "image/png": "[encoded data removed]",
            "text/plain": [
              "<Figure size 432x288 with 1 Axes>"
            ]
          },
          "metadata": {
            "tags": [],
            "needs_background": "light"
          }
        }
      ]
    },
    {
      "cell_type": "markdown",
      "metadata": {
        "id": "FIgG0pLd0twx",
        "colab_type": "text"
      },
      "source": [
        "* ### Model for predicting energy consuming or regenerative braking in cruizing status (sign of power)"
      ]
    },
    {
      "cell_type": "code",
      "metadata": {
        "scrolled": false,
        "id": "gl9TNlbT0twx",
        "colab_type": "code",
        "outputId": "e82f8297-679d-4bb6-a134-4b73fd7e2986",
        "colab": {}
      },
      "source": [
        "Y_train_ind = train_crz['PowIndex']\n",
        "X_train_ind = train_crz[['Acc','Speed','RPM','Grade','Temp','Humidity','Speed2','Speed3','AccSpeed']]\n",
        "\n",
        "Y_test_ind = test_crz['PowIndex']\n",
        "X_test_ind = test_crz[['Acc','Speed','RPM','Grade','Temp','Humidity','Speed2','Speed3','AccSpeed']]\n",
        "\n",
        "model_crzInd = Sequential()\n",
        "model_crzInd.add(Dense(15, input_dim=9, activation ='relu'))\n",
        "model_crzInd.add(Dense(8, activation ='relu'))\n",
        "model_crzInd.add(Dense(4, activation ='relu'))\n",
        "model_crzInd.add(Dense(1, activation ='sigmoid'))\n",
        "\n",
        "model_crzInd.compile(loss='binary_crossentropy', optimizer='adam', metrics=['accuracy'])\n",
        "\n",
        "history = model_crzInd.fit(X_train_ind, Y_train_ind, validation_data=(X_test_ind, Y_test_ind), epochs=20, batch_size=32, verbose = 1)\n",
        "\n",
        "# evaluate the model\n",
        "_, train_accuracy = model_crzInd.evaluate(X_train_ind, Y_train_ind, verbose=0)\n",
        "_, test_accuracy = model_crzInd.evaluate(X_test_ind, Y_test_ind, verbose=0)\n",
        "print('Train: %.3f, Test: %.3f' % (train_accuracy, test_accuracy))\n",
        "\n",
        "pyplot.subplot(211)\n",
        "pyplot.plot(history.history['loss'], label='train')\n",
        "pyplot.plot(history.history['val_loss'], label='test')\n",
        "pyplot.title('Loss')\n",
        "pyplot.legend()\n",
        "\n",
        "pyplot.subplot(212)\n",
        "pyplot.plot(history.history['accuracy'], label='train')\n",
        "pyplot.plot(history.history['val_accuracy'], label='test')\n",
        "pyplot.title('Accuracy')\n",
        "pyplot.legend()\n",
        "\n",
        "pyplot.tight_layout()\n",
        "pyplot.show()"
      ],
      "execution_count": 0,
      "outputs": [
        {
          "output_type": "stream",
          "text": [
            "Train on 211931 samples, validate on 53070 samples\n",
            "Epoch 1/20\n",
            "211931/211931 [==============================] - 9s 44us/step - loss: 0.4749 - accuracy: 0.8184 - val_loss: 0.6115 - val_accuracy: 0.6907\n",
            "Epoch 2/20\n",
            "211931/211931 [==============================] - 9s 43us/step - loss: 0.4011 - accuracy: 0.8370 - val_loss: 0.3498 - val_accuracy: 0.8553\n",
            "Epoch 3/20\n",
            "211931/211931 [==============================] - 9s 42us/step - loss: 0.3719 - accuracy: 0.8461 - val_loss: 0.3514 - val_accuracy: 0.8539\n",
            "Epoch 4/20\n",
            "211931/211931 [==============================] - 9s 43us/step - loss: 0.3580 - accuracy: 0.8508 - val_loss: 0.3496 - val_accuracy: 0.8549\n",
            "Epoch 5/20\n",
            "211931/211931 [==============================] - 9s 43us/step - loss: 0.3561 - accuracy: 0.8510 - val_loss: 0.3540 - val_accuracy: 0.8537\n",
            "Epoch 6/20\n",
            "211931/211931 [==============================] - 9s 43us/step - loss: 0.3535 - accuracy: 0.8519 - val_loss: 0.3447 - val_accuracy: 0.8554\n",
            "Epoch 7/20\n",
            "211931/211931 [==============================] - 10s 47us/step - loss: 0.3522 - accuracy: 0.8522 - val_loss: 0.3451 - val_accuracy: 0.8560\n",
            "Epoch 8/20\n",
            "211931/211931 [==============================] - 9s 44us/step - loss: 0.3517 - accuracy: 0.8526 - val_loss: 0.3455 - val_accuracy: 0.8565\n",
            "Epoch 9/20\n",
            "211931/211931 [==============================] - 10s 45us/step - loss: 0.3506 - accuracy: 0.8528 - val_loss: 0.3505 - val_accuracy: 0.8541\n",
            "Epoch 10/20\n",
            "211931/211931 [==============================] - 9s 44us/step - loss: 0.3506 - accuracy: 0.8528 - val_loss: 0.3468 - val_accuracy: 0.8526\n",
            "Epoch 11/20\n",
            "211931/211931 [==============================] - 9s 44us/step - loss: 0.3488 - accuracy: 0.8534 - val_loss: 0.3442 - val_accuracy: 0.8562\n",
            "Epoch 12/20\n",
            "211931/211931 [==============================] - 9s 44us/step - loss: 0.3484 - accuracy: 0.8530 - val_loss: 0.3494 - val_accuracy: 0.8521\n",
            "Epoch 13/20\n",
            "211931/211931 [==============================] - 10s 45us/step - loss: 0.3479 - accuracy: 0.8536 - val_loss: 0.3468 - val_accuracy: 0.8517\n",
            "Epoch 14/20\n",
            "211931/211931 [==============================] - 9s 44us/step - loss: 0.3471 - accuracy: 0.8540 - val_loss: 0.3439 - val_accuracy: 0.8571\n",
            "Epoch 15/20\n",
            "211931/211931 [==============================] - 9s 44us/step - loss: 0.3468 - accuracy: 0.8537 - val_loss: 0.3424 - val_accuracy: 0.8578\n",
            "Epoch 16/20\n",
            "211931/211931 [==============================] - 9s 44us/step - loss: 0.3463 - accuracy: 0.8544 - val_loss: 0.3481 - val_accuracy: 0.8534\n",
            "Epoch 17/20\n",
            "211931/211931 [==============================] - 9s 44us/step - loss: 0.3460 - accuracy: 0.8541 - val_loss: 0.3427 - val_accuracy: 0.8569\n",
            "Epoch 18/20\n",
            "211931/211931 [==============================] - 9s 43us/step - loss: 0.3457 - accuracy: 0.8548 - val_loss: 0.3421 - val_accuracy: 0.8571\n",
            "Epoch 19/20\n",
            "211931/211931 [==============================] - 9s 44us/step - loss: 0.3450 - accuracy: 0.8547 - val_loss: 0.3416 - val_accuracy: 0.8572\n",
            "Epoch 20/20\n",
            "211931/211931 [==============================] - 9s 44us/step - loss: 0.3449 - accuracy: 0.8548 - val_loss: 0.3425 - val_accuracy: 0.8556\n",
            "Train: 0.854, Test: 0.856\n"
          ],
          "name": "stdout"
        },
        {
          "output_type": "display_data",
          "data": {
            "image/png": "[encoded data removed]",
            "text/plain": [
              "<Figure size 432x288 with 2 Axes>"
            ]
          },
          "metadata": {
            "tags": [],
            "needs_background": "light"
          }
        }
      ]
    },
    {
      "cell_type": "markdown",
      "metadata": {
        "id": "XGV_9vSG0tw0",
        "colab_type": "text"
      },
      "source": [
        "* ### Model for positive power samples in cruizing status"
      ]
    },
    {
      "cell_type": "code",
      "metadata": {
        "id": "ir7nxOgy0tw0",
        "colab_type": "code",
        "outputId": "3e27374a-dc54-4859-f31d-5dd4101f8af2",
        "colab": {}
      },
      "source": [
        "Y_train_pos = train_crz_pos['Pow']\n",
        "X_train_pos = train_crz_pos[['Acc','Speed','RPM','Grade','Temp','Humidity','Speed2','Speed3','AccSpeed']]\n",
        "\n",
        "model_crzPos = Sequential()\n",
        "model_crzPos.add(Dense(10,kernel_initializer='normal', input_dim=9, activation ='relu'))\n",
        "model_crzPos.add(Dense(5, kernel_initializer='normal', activation ='relu'))\n",
        "model_crzPos.add(Dense(3, kernel_initializer='normal', activation ='relu'))\n",
        "model_crzPos.add(Dense(1,kernel_initializer='normal', activation ='linear'))\n",
        "\n",
        "model_crzPos.compile(loss='mean_absolute_error', optimizer='adam')\n",
        "\n",
        "history = model_crzPos.fit(X_train_pos, Y_train_pos, epochs=100, batch_size=32, verbose = 0)\n",
        "pyplot.plot(history.history['loss'], label='train')\n",
        "pyplot.show()"
      ],
      "execution_count": 0,
      "outputs": [
        {
          "output_type": "display_data",
          "data": {
            "image/png": "[encoded data removed]",
            "text/plain": [
              "<Figure size 432x288 with 1 Axes>"
            ]
          },
          "metadata": {
            "tags": [],
            "needs_background": "light"
          }
        }
      ]
    },
    {
      "cell_type": "markdown",
      "metadata": {
        "id": "AXe4MGem0tw2",
        "colab_type": "text"
      },
      "source": [
        "* ### Model for positive power samples in cruizing status"
      ]
    },
    {
      "cell_type": "code",
      "metadata": {
        "id": "ZLbG2Jc50tw3",
        "colab_type": "code",
        "outputId": "14efbd4e-23f2-43ec-f1c9-d51699888a81",
        "colab": {}
      },
      "source": [
        "Y_train_neg = train_crz_neg['Pow']\n",
        "X_train_neg = train_crz_neg[['Acc','Speed','RPM','Grade','Temp','Humidity','Speed2','Speed3','AccSpeed']]\n",
        "\n",
        "model_crzNeg = Sequential()\n",
        "model_crzNeg.add(Dense(10,kernel_initializer='normal', input_dim=9, activation ='relu'))\n",
        "model_crzNeg.add(Dense(5, kernel_initializer='normal', activation ='relu'))\n",
        "model_crzNeg.add(Dense(3, kernel_initializer='normal', activation ='relu'))\n",
        "model_crzNeg.add(Dense(1,kernel_initializer='normal', activation ='linear'))\n",
        "\n",
        "model_crzNeg.compile(loss='mean_absolute_error', optimizer='adam')\n",
        "\n",
        "history = model_crzNeg.fit(X_train_neg, Y_train_neg, epochs=100, batch_size=32, verbose = 0)\n",
        "pyplot.plot(history.history['loss'], label='train')\n",
        "pyplot.show()"
      ],
      "execution_count": 0,
      "outputs": [
        {
          "output_type": "display_data",
          "data": {
            "image/png": "[encoded data removed]",
            "text/plain": [
              "<Figure size 432x288 with 1 Axes>"
            ]
          },
          "metadata": {
            "tags": [],
            "needs_background": "light"
          }
        }
      ]
    },
    {
      "cell_type": "markdown",
      "metadata": {
        "id": "m--sJxC50tw5",
        "colab_type": "text"
      },
      "source": [
        "## Some other models we are testing"
      ]
    },
    {
      "cell_type": "code",
      "metadata": {
        "id": "gIvXlqxU0tw5",
        "colab_type": "code",
        "outputId": "abbc4ac6-fc02-49fa-a8ef-aa505967977c",
        "colab": {}
      },
      "source": [
        "# Cruizing model\n",
        "Y_train_crz = train_crz['Pow']\n",
        "X_train_crz = train_crz[['Acc','Speed','RPM','Grade','Temp','Humidity','Speed2','Speed3','AccSpeed']]\n",
        "\n",
        "Y_test_crz = test_crz['Pow']\n",
        "X_test_crz = test_crz[['Acc','Speed','RPM','Grade','Temp','Humidity','Speed2','Speed3','AccSpeed']]\n",
        "\n",
        "model_crz = Sequential()\n",
        "model_crz.add(Dense(10,kernel_initializer='normal', input_dim=9, activation ='relu'))\n",
        "model_crz.add(Dense(5, kernel_initializer='normal', activation ='relu'))\n",
        "model_crz.add(Dense(3, kernel_initializer='normal', activation ='relu'))\n",
        "model_crz.add(Dense(1,kernel_initializer='normal', activation ='linear'))\n",
        "\n",
        "model_crz.compile(loss='mean_absolute_error', optimizer='adam')\n",
        "\n",
        "history = model_crz.fit(X_train_crz, Y_train_crz, validation_data=(X_test_crz, Y_test_crz), epochs=100, batch_size=32, verbose = 0)\n",
        "pyplot.plot(history.history['loss'], label='train')\n",
        "pyplot.show()"
      ],
      "execution_count": 0,
      "outputs": [
        {
          "output_type": "display_data",
          "data": {
            "image/png": "[encoded data removed]",
            "text/plain": [
              "<Figure size 432x288 with 1 Axes>"
            ]
          },
          "metadata": {
            "tags": [],
            "needs_background": "light"
          }
        }
      ]
    },
    {
      "cell_type": "code",
      "metadata": {
        "id": "mASK-nqS0tw7",
        "colab_type": "code",
        "outputId": "eb03a0c4-6e73-4b73-ace6-42e6cd4a468a",
        "colab": {}
      },
      "source": [
        "# Cruizing model for positive speed data\n",
        "Y_train_wSpeed = train_wSpeed['Pow']\n",
        "X__train_wSpeed = train_wSpeed[['Acc','Speed','RPM','Grade','Temp','Humidity','Speed2','Speed3','AccSpeed']]\n",
        "\n",
        "Y_test_wSpeed = test_wSpeed['Pow']\n",
        "X_test_wSpeed = test_wSpeed[['Acc','Speed','RPM','Grade','Temp','Humidity','Speed2','Speed3','AccSpeed']]\n",
        "\n",
        "model_crz = Sequential()\n",
        "model_crz.add(Dense(10,kernel_initializer='normal', input_dim=9, activation ='relu'))\n",
        "model_crz.add(Dense(5, kernel_initializer='normal', activation ='relu'))\n",
        "model_crz.add(Dense(3, kernel_initializer='normal', activation ='relu'))\n",
        "model_crz.add(Dense(1,kernel_initializer='normal', activation ='linear'))\n",
        "\n",
        "model_crz.compile(loss='mean_absolute_error', optimizer='adam')\n",
        "\n",
        "history = model_crz.fit(X__train_wSpeed, Y_train_wSpeed, validation_data=(X_test_wSpeed, Y_test_wSpeed), epochs=10, batch_size=64, verbose = 1)\n",
        "pyplot.plot(history.history['loss'], label='train')\n",
        "pyplot.plot(history.history['val_loss'], label='test')\n",
        "pyplot.title('Loss')\n",
        "pyplot.legend()\n",
        "pyplot.show()"
      ],
      "execution_count": 0,
      "outputs": [
        {
          "output_type": "stream",
          "text": [
            "Train on 208501 samples, validate on 52167 samples\n",
            "Epoch 1/10\n",
            "208501/208501 [==============================] - 5s 23us/step - loss: 36.8038 - val_loss: 33.5891\n",
            "Epoch 2/10\n",
            "208501/208501 [==============================] - 4s 20us/step - loss: 32.5039 - val_loss: 32.5838\n",
            "Epoch 3/10\n",
            "208501/208501 [==============================] - 4s 20us/step - loss: 32.2350 - val_loss: 32.5374\n",
            "Epoch 4/10\n",
            "208501/208501 [==============================] - 4s 21us/step - loss: 32.1699 - val_loss: 31.8648\n",
            "Epoch 5/10\n",
            "208501/208501 [==============================] - 4s 20us/step - loss: 32.1074 - val_loss: 31.6900\n",
            "Epoch 6/10\n",
            "208501/208501 [==============================] - 4s 21us/step - loss: 32.1063 - val_loss: 31.6470\n",
            "Epoch 7/10\n",
            "208501/208501 [==============================] - 4s 21us/step - loss: 32.0224 - val_loss: 32.7276\n",
            "Epoch 8/10\n",
            "208501/208501 [==============================] - 4s 21us/step - loss: 31.9960 - val_loss: 31.5677\n",
            "Epoch 9/10\n",
            "208501/208501 [==============================] - 4s 20us/step - loss: 31.9625 - val_loss: 31.6338\n",
            "Epoch 10/10\n",
            "208501/208501 [==============================] - 4s 20us/step - loss: 31.9460 - val_loss: 31.8679\n"
          ],
          "name": "stdout"
        },
        {
          "output_type": "display_data",
          "data": {
            "image/png": "[encoded data removed]",
            "text/plain": [
              "<Figure size 432x288 with 1 Axes>"
            ]
          },
          "metadata": {
            "tags": [],
            "needs_background": "light"
          }
        }
      ]
    },
    {
      "cell_type": "markdown",
      "metadata": {
        "id": "iWCH6bXz0tw9",
        "colab_type": "text"
      },
      "source": [
        "# Make predictions and plot results"
      ]
    },
    {
      "cell_type": "code",
      "metadata": {
        "id": "lEHv4dnJ0tw9",
        "colab_type": "code",
        "colab": {}
      },
      "source": [
        ""
      ],
      "execution_count": 0,
      "outputs": []
    }
  ]
}
